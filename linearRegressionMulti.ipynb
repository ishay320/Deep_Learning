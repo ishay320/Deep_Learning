{
 "cells": [
  {
   "cell_type": "markdown",
   "metadata": {},
   "source": [
    "## import"
   ]
  },
  {
   "cell_type": "code",
   "execution_count": 28,
   "metadata": {},
   "outputs": [],
   "source": [
    "import tensorflow._api.v2.compat.v1 as tf\n",
    "import numpy as np\n",
    "tf.disable_v2_behavior()"
   ]
  },
  {
   "cell_type": "markdown",
   "metadata": {},
   "source": [
    "## initialization\n",
    "pix\n",
    "x0                      y [0 - 255]\n",
    "x1\n",
    "x2\n",
    "x3\n",
    "x4\n",
    "x5\n",
    "x6\n",
    "x7\n",
    "\n",
    "\n",
    "<!-- \n",
    "red:\n",
    "x1 x2 x3\n",
    "x4 y  x5\n",
    "x6 x7 x8 \n",
    "-->"
   ]
  },
  {
   "cell_type": "code",
   "execution_count": 47,
   "metadata": {},
   "outputs": [],
   "source": [
    "# variables\n",
    "features = 3\n",
    "y = tf.placeholder(tf.float32)\n",
    "x = tf.placeholder(tf.float32,[None,features])\n",
    "w = tf.Variable(tf.zeros([features,1]))\n",
    "b = tf.Variable(tf.zeros(1))\n",
    "\n",
    "# functions\n",
    "pred = tf.matmul(x, w) + b \n",
    "loss = tf.reduce_mean(tf.pow(pred - y, 2))\n",
    "update = tf.train.GradientDescentOptimizer(0.0001).minimize(loss)"
   ]
  },
  {
   "cell_type": "markdown",
   "metadata": {},
   "source": [
    "## data"
   ]
  },
  {
   "cell_type": "code",
   "execution_count": 48,
   "metadata": {},
   "outputs": [],
   "source": [
    "data_x = np.array([[3,4,5], [1,5,10], [2,4,10], [1,10,30]])\n",
    "data_y = np.array([[4], [5], [5.3], [13.6]])"
   ]
  },
  {
   "cell_type": "markdown",
   "metadata": {},
   "source": [
    "## running the sim"
   ]
  },
  {
   "cell_type": "code",
   "execution_count": 53,
   "metadata": {},
   "outputs": [],
   "source": [
    "sess = tf.Session()\n",
    "sess.run(tf.global_variables_initializer())\n",
    "for _ in range(0,1000):\n",
    "       sess.run(update, feed_dict = {x:data_x, y:data_y})"
   ]
  },
  {
   "cell_type": "markdown",
   "metadata": {},
   "source": [
    "## printing and testing"
   ]
  },
  {
   "cell_type": "code",
   "execution_count": 60,
   "metadata": {},
   "outputs": [
    {
     "name": "stdout",
     "output_type": "stream",
     "text": [
      "w = [[0.17446917]\n",
      " [0.24303056]\n",
      " [0.36918056]]\n",
      "b = [0.06384327] \n",
      "[5.14527086]\n"
     ]
    }
   ],
   "source": [
    "print(f\"w = {sess.run(w)}\")\n",
    "print(f\"b = {sess.run(b)} \")\n",
    "print(np.matmul([1,5,10],sess.run(w))+sess.run(b))"
   ]
  }
 ],
 "metadata": {
  "interpreter": {
   "hash": "cf7f6088fb14ab5854b4787c97cb6c8fa67025149f7d77203f10baaeb5d74d2d"
  },
  "kernelspec": {
   "display_name": "Python 3.9.2 64-bit ('venv': venv)",
   "language": "python",
   "name": "python3"
  },
  "language_info": {
   "codemirror_mode": {
    "name": "ipython",
    "version": 3
   },
   "file_extension": ".py",
   "mimetype": "text/x-python",
   "name": "python",
   "nbconvert_exporter": "python",
   "pygments_lexer": "ipython3",
   "version": "3.9.2"
  },
  "orig_nbformat": 4
 },
 "nbformat": 4,
 "nbformat_minor": 2
}
