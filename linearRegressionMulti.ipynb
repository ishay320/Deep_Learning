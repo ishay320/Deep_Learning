{
 "cells": [
  {
   "cell_type": "markdown",
   "metadata": {},
   "source": [
    "## import"
   ]
  },
  {
   "cell_type": "code",
   "execution_count": 104,
   "metadata": {},
   "outputs": [],
   "source": [
    "import tensorflow._api.v2.compat.v1 as tf\n",
    "import numpy as np\n",
    "tf.disable_v2_behavior()\n",
    "from PIL import Image \n",
    "# print('Pillow Version:', PIL.__version__)\n",
    "from numpy import asarray\n",
    "\n",
    "import matplotlib.pyplot as plt"
   ]
  },
  {
   "cell_type": "markdown",
   "metadata": {},
   "source": [
    "## initialization\n",
    "pix\n",
    "x0                      y [0 - 255]\n",
    "x1\n",
    "x2\n",
    "x3\n",
    "x4\n",
    "x5\n",
    "x6\n",
    "x7\n",
    "\n",
    "\n",
    "<!-- \n",
    "red:\n",
    "x1 x2 x3\n",
    "x4 y  x5\n",
    "x6 x7 x8 \n",
    "-->"
   ]
  },
  {
   "cell_type": "code",
   "execution_count": 105,
   "metadata": {},
   "outputs": [],
   "source": [
    "# variables\n",
    "features = 8\n",
    "y = tf.placeholder(tf.float32)\n",
    "x = tf.placeholder(tf.float32,[None,features])\n",
    "w = tf.Variable(tf.zeros([features,1]))\n",
    "b = tf.Variable(tf.zeros(1))\n",
    "\n",
    "# functions\n",
    "pred = tf.matmul(x, w) + b \n",
    "loss = tf.reduce_mean(tf.pow(pred - y, 2))\n",
    "alfa = 0.000004\n",
    "update = tf.train.GradientDescentOptimizer(alfa).minimize(loss)"
   ]
  },
  {
   "cell_type": "markdown",
   "metadata": {},
   "source": [
    "## data function"
   ]
  },
  {
   "cell_type": "code",
   "execution_count": 106,
   "metadata": {},
   "outputs": [],
   "source": [
    "def get_XY_from_image(photo_name:str,color:int,jumps:int=100,show:bool=False):\n",
    "    data = asarray(Image.open(photo_name))\n",
    "    color_arr = data[:,:,color]\n",
    "    image_color_arr = Image.fromarray(color_arr)\n",
    "    if show: image_color_arr.show()\n",
    "    data_x = []\n",
    "    data_y = []\n",
    "    print(f\"pic size: {len(color_arr)}x{len(color_arr[0])} name: {photo_name}\")\n",
    "    for i in range(1,len(color_arr)-1,jumps):\n",
    "        for j in range(1,len(color_arr[0])-1):\n",
    "            temp_y = [color_arr[i][j]]\n",
    "            temp_x = [color_arr[i-1][j-1],color_arr[i-1][j],color_arr[i][j-1],color_arr[i+1][j],color_arr[i][j+1],color_arr[i+1][j+1],color_arr[i-1][j+1],color_arr[i+1][j-1]]\n",
    "            data_y.append(temp_y)\n",
    "            data_x.append(temp_x)\n",
    "    return (data_x,data_y)\n",
    "\n",
    "def load_pic_data(pics_array,color:int,jumps:int=100,show:bool=False):\n",
    "    data_x , data_y = get_XY_from_image(pics_array[0],color,jumps,show)\n",
    "    for i in pics_array[1:]:\n",
    "        data_tmp_x , data_tmp_y = get_XY_from_image(i,color,jumps,show)\n",
    "        data_x = np.append(data_x,data_tmp_x,axis=0)\n",
    "        data_y = np.append(data_y,data_tmp_y,axis=0)\n",
    "    data_x = np.array(data_x)\n",
    "    data_y = np.array(data_y)\n",
    "    return data_x,data_y"
   ]
  },
  {
   "cell_type": "markdown",
   "metadata": {},
   "source": [
    "## get data"
   ]
  },
  {
   "cell_type": "code",
   "execution_count": 107,
   "metadata": {},
   "outputs": [
    {
     "name": "stdout",
     "output_type": "stream",
     "text": [
      "pic size: 681x1024 name: data/cat_test.jpg\n",
      "pic size: 480x720 name: data/balloon.jpg\n",
      "pic size: 576x1024 name: data/cat.jpg\n",
      "pic size: 664x1080 name: data/city.jpg\n",
      "pic size: 1282x2278 name: data/city_night.jpg\n",
      "pic size: 539x959 name: data/city_color.jpg\n",
      "pic size: 600x800 name: data/flower.jpg\n",
      "pic size: 681x1024 name: data/cat_test.jpg\n",
      "pic size: 588x830 name: data/park.jpg\n"
     ]
    }
   ],
   "source": [
    "data_x , data_y = load_pic_data(\n",
    "    [\"data/cat_test.jpg\",\"data/balloon.jpg\",\"data/cat.jpg\",\"data/city.jpg\",\"data/city_night.jpg\",\"data/city_color.jpg\",\n",
    "    \"data/flower.jpg\"],\n",
    "    color=0,jumps=100)\n",
    "data_t_x , data_t_y = load_pic_data([\"data/cat_test.jpg\",\"data/park.jpg\"],color=0,jumps=100)\n"
   ]
  },
  {
   "cell_type": "markdown",
   "metadata": {},
   "source": [
    "## running the sim"
   ]
  },
  {
   "cell_type": "code",
   "execution_count": 108,
   "metadata": {},
   "outputs": [
    {
     "name": "stdout",
     "output_type": "stream",
     "text": [
      "i = 200, loss = 97.04254913330078\n",
      "i = 300, loss = 90.02916717529297\n",
      "i = 400, loss = 83.81478881835938\n",
      "i = 500, loss = 78.30628967285156\n",
      "i = 600, loss = 73.4224853515625\n",
      "i = 700, loss = 69.09192657470703\n",
      "i = 800, loss = 65.25154113769531\n",
      "i = 900, loss = 61.84553146362305\n",
      "i = 1000, loss = 58.82453155517578\n",
      "i = 1100, loss = 56.14483642578125\n",
      "i = 1200, loss = 53.76771926879883\n",
      "i = 1300, loss = 51.65890121459961\n",
      "i = 1400, loss = 49.787967681884766\n",
      "i = 1500, loss = 48.128021240234375\n",
      "i = 1600, loss = 46.6551628112793\n",
      "i = 1700, loss = 45.34825897216797\n",
      "i = 1800, loss = 44.18856430053711\n",
      "i = 1900, loss = 43.1594352722168\n",
      "i = 2000, loss = 42.24613952636719\n",
      "i = 2100, loss = 41.435611724853516\n",
      "i = 2200, loss = 40.71625518798828\n",
      "i = 2300, loss = 40.07777786254883\n",
      "i = 2400, loss = 39.51106643676758\n",
      "i = 2500, loss = 39.00802993774414\n",
      "i = 2600, loss = 38.56149673461914\n",
      "i = 2700, loss = 38.165096282958984\n",
      "i = 2800, loss = 37.81319808959961\n",
      "i = 2900, loss = 37.50078201293945\n",
      "i = 3000, loss = 37.223411560058594\n",
      "i = 3100, loss = 36.97713851928711\n",
      "i = 3200, loss = 36.75846862792969\n",
      "i = 3300, loss = 36.56428909301758\n",
      "i = 3400, loss = 36.39186477661133\n",
      "i = 3500, loss = 36.23873519897461\n",
      "i = 3600, loss = 36.10273361206055\n",
      "i = 3700, loss = 35.98194885253906\n",
      "i = 3800, loss = 35.87465286254883\n",
      "i = 3900, loss = 35.77934265136719\n",
      "i = 4000, loss = 35.694679260253906\n",
      "i = 4100, loss = 35.61945724487305\n",
      "i = 4200, loss = 35.55261993408203\n",
      "i = 4300, loss = 35.49324035644531\n",
      "i = 4400, loss = 35.44046401977539\n",
      "i = 4500, loss = 35.3935546875\n",
      "i = 4600, loss = 35.351871490478516\n",
      "i = 4700, loss = 35.31481170654297\n",
      "i = 4800, loss = 35.281864166259766\n",
      "i = 4900, loss = 35.2525749206543\n",
      "i = 5000, loss = 35.22653579711914\n",
      "i = 5100, loss = 35.203365325927734\n",
      "i = 5200, loss = 35.18275833129883\n",
      "i = 5300, loss = 35.1644287109375\n",
      "i = 5400, loss = 35.14812088012695\n",
      "i = 5500, loss = 35.13360595703125\n",
      "i = 5600, loss = 35.12069320678711\n",
      "i = 5700, loss = 35.109195709228516\n",
      "i = 5800, loss = 35.098960876464844\n",
      "i = 5900, loss = 35.08985137939453\n",
      "i = 6000, loss = 35.08173370361328\n",
      "i = 6100, loss = 35.074501037597656\n",
      "i = 6200, loss = 35.06805419921875\n",
      "i = 6300, loss = 35.06230926513672\n",
      "i = 6400, loss = 35.057193756103516\n",
      "i = 6500, loss = 35.05262756347656\n",
      "i = 6600, loss = 35.04855728149414\n",
      "i = 6700, loss = 35.04492950439453\n",
      "i = 6800, loss = 35.04168701171875\n",
      "i = 6900, loss = 35.03879928588867\n",
      "i = 7000, loss = 35.03620910644531\n",
      "i = 7100, loss = 35.033905029296875\n",
      "i = 7200, loss = 35.03184127807617\n",
      "i = 7300, loss = 35.029998779296875\n",
      "i = 7400, loss = 35.028350830078125\n",
      "i = 7500, loss = 35.026878356933594\n",
      "i = 7600, loss = 35.02555465698242\n",
      "i = 7700, loss = 35.02437210083008\n",
      "i = 7800, loss = 35.0233154296875\n",
      "i = 7900, loss = 35.02236557006836\n",
      "i = 8000, loss = 35.021522521972656\n",
      "i = 8100, loss = 35.020755767822266\n",
      "i = 8200, loss = 35.020076751708984\n",
      "i = 8300, loss = 35.01946258544922\n",
      "i = 8400, loss = 35.01890563964844\n",
      "i = 8500, loss = 35.01840591430664\n",
      "i = 8600, loss = 35.017967224121094\n",
      "i = 8700, loss = 35.01756286621094\n",
      "i = 8800, loss = 35.017208099365234\n",
      "i = 8900, loss = 35.016876220703125\n",
      "i = 9000, loss = 35.01658630371094\n",
      "i = 9100, loss = 35.016319274902344\n",
      "i = 9200, loss = 35.016082763671875\n",
      "i = 9300, loss = 35.01586151123047\n",
      "i = 9400, loss = 35.01567077636719\n",
      "i = 9500, loss = 35.01549530029297\n",
      "i = 9600, loss = 35.01533126831055\n",
      "i = 9700, loss = 35.01519012451172\n",
      "i = 9800, loss = 35.01506042480469\n",
      "i = 9900, loss = 35.01493835449219\n"
     ]
    }
   ],
   "source": [
    "sess = tf.Session()\n",
    "sess.run(tf.global_variables_initializer())\n",
    "show = 10\n",
    "loss_in_time = []\n",
    "w_arr = []\n",
    "test_over_time = []\n",
    "for i in range(0,10000):\n",
    "       sess.run(update, feed_dict = {x:data_x, y:data_y})\n",
    "       if(i%show==0 and i>100):\n",
    "              tmp = sess.run(loss,feed_dict={x:data_x,y:data_y})\n",
    "              loss_in_time.append(tmp)\n",
    "              w_arr.append(sess.run(w))\n",
    "              if(i%(show*10)==0):\n",
    "                     print(f\"i = {i}, loss = {tmp}\")\n",
    "              \n",
    "              test_over_time.append(sess.run(loss,feed_dict={x:data_t_x,y:data_t_y}))\n",
    "              #  w = {sess.run(w)}, b = {sess.run(b)},\n"
   ]
  },
  {
   "cell_type": "markdown",
   "metadata": {},
   "source": [
    "## printing and testing"
   ]
  },
  {
   "cell_type": "code",
   "execution_count": 109,
   "metadata": {},
   "outputs": [
    {
     "data": {
      "image/png": "[encoded data removed]",
      "text/plain": [
       "<Figure size 432x288 with 1 Axes>"
      ]
     },
     "metadata": {
      "needs_background": "light"
     },
     "output_type": "display_data"
    },
    {
     "data": {
      "image/png": "[encoded data removed]",
      "text/plain": [
       "<Figure size 432x288 with 1 Axes>"
      ]
     },
     "metadata": {
      "needs_background": "light"
     },
     "output_type": "display_data"
    }
   ],
   "source": [
    "d = np.array(np.array(w_arr).transpose()[0]).transpose()\n",
    "plt.plot(d)\n",
    "plt.ylabel('w over time')\n",
    "plt.show()\n",
    "\n",
    "plt.plot(loss_in_time,label =\"loss\")\n",
    "plt.plot(test_over_time , label =\"test\")\n",
    "plt.legend()\n",
    "plt.ylabel('loss over time')\n",
    "plt.show()\n",
    "\n",
    "# data_x , data_y = get_XY_from_image(\"cat.jpg\",0)\n",
    "\n",
    "# print(f\"loss test: {sess.run(loss,feed_dict={x:data_x,y:data_y})}\")\n",
    "\n",
    "# print(f\"w = {sess.run(w)}\")\n",
    "# print(f\"b = {sess.run(b)} \")\n",
    "# print(f\"predict = {np.matmul([5,15,10],sess.run(w))+sess.run(b)}\")"
   ]
  },
  {
   "cell_type": "code",
   "execution_count": null,
   "metadata": {},
   "outputs": [],
   "source": []
  }
 ],
 "metadata": {
  "interpreter": {
   "hash": "cf7f6088fb14ab5854b4787c97cb6c8fa67025149f7d77203f10baaeb5d74d2d"
  },
  "kernelspec": {
   "display_name": "Python 3.9.2 64-bit ('venv': venv)",
   "language": "python",
   "name": "python3"
  },
  "language_info": {
   "codemirror_mode": {
    "name": "ipython",
    "version": 3
   },
   "file_extension": ".py",
   "mimetype": "text/x-python",
   "name": "python",
   "nbconvert_exporter": "python",
   "pygments_lexer": "ipython3",
   "version": "3.9.8"
  },
  "orig_nbformat": 4
 },
 "nbformat": 4,
 "nbformat_minor": 2
}
