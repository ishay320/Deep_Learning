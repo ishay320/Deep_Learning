{
 "cells": [
  {
   "cell_type": "markdown",
   "metadata": {},
   "source": [
    "## import"
   ]
  },
  {
   "cell_type": "code",
   "execution_count": 257,
   "metadata": {},
   "outputs": [],
   "source": [
    "import tensorflow._api.v2.compat.v1 as tf\n",
    "import numpy as np\n",
    "tf.disable_v2_behavior()\n",
    "from PIL import Image \n",
    "# print('Pillow Version:', PIL.__version__)\n",
    "from numpy import asarray\n",
    "\n",
    "import matplotlib.pyplot as plt"
   ]
  },
  {
   "cell_type": "markdown",
   "metadata": {},
   "source": [
    "## initialization\n",
    "\n",
    "pixel:\n",
    "x1 | x2 | x3\n",
    "---|---|---\n",
    "x4 | y  | x5\n",
    "x6 | x7 | x8 \n"
   ]
  },
  {
   "cell_type": "code",
   "execution_count": 258,
   "metadata": {},
   "outputs": [],
   "source": [
    "# variables\n",
    "features = 8\n",
    "y = tf.placeholder(tf.float32)\n",
    "x = tf.placeholder(tf.float32,[None,features])\n",
    "w = tf.Variable(tf.zeros([features,1]))\n",
    "b = tf.Variable(tf.zeros(1))\n",
    "\n",
    "# functions\n",
    "alfa = 0.000004\n",
    "pred = tf.matmul(x, w) + b \n",
    "loss = tf.reduce_mean(tf.pow(pred - y, 2))+ 0.1*tf.reduce_sum(tf.abs(w)) # + lasso regularization\n",
    "update = tf.train.GradientDescentOptimizer(alfa).minimize(loss)"
   ]
  },
  {
   "cell_type": "markdown",
   "metadata": {},
   "source": [
    "## data function"
   ]
  },
  {
   "cell_type": "code",
   "execution_count": 259,
   "metadata": {},
   "outputs": [],
   "source": [
    "def get_XY_from_image(photo_name:str,color:int,jumps:int=100,show:bool=False):\n",
    "    data = asarray(Image.open(photo_name))\n",
    "    color_arr = data[:,:,color]\n",
    "    image_color_arr = Image.fromarray(color_arr)\n",
    "    if show: image_color_arr.show()\n",
    "    data_x = []\n",
    "    data_y = []\n",
    "    print(f\"pic size: {len(color_arr)}x{len(color_arr[0])} name: {photo_name}\")\n",
    "    for i in range(1,len(color_arr)-1,jumps):\n",
    "        for j in range(1,len(color_arr[0])-1):\n",
    "            temp_y = [color_arr[i][j]]\n",
    "            temp_x = [color_arr[i-1][j-1],color_arr[i-1][j],color_arr[i][j-1],color_arr[i+1][j],color_arr[i][j+1],color_arr[i+1][j+1],color_arr[i-1][j+1],color_arr[i+1][j-1]]\n",
    "            data_y.append(temp_y)\n",
    "            data_x.append(temp_x)\n",
    "    return (data_x,data_y)\n",
    "\n",
    "def load_pic_data(pics_array,color:int,jumps:int=100,show:bool=False):\n",
    "    data_x , data_y = get_XY_from_image(pics_array[0],color,jumps,show)\n",
    "    for i in pics_array[1:]:\n",
    "        data_tmp_x , data_tmp_y = get_XY_from_image(i,color,jumps,show)\n",
    "        data_x = np.append(data_x,data_tmp_x,axis=0)\n",
    "        data_y = np.append(data_y,data_tmp_y,axis=0)\n",
    "    data_x = np.array(data_x)\n",
    "    data_y = np.array(data_y)\n",
    "    return data_x,data_y"
   ]
  },
  {
   "cell_type": "markdown",
   "metadata": {},
   "source": [
    "## get data"
   ]
  },
  {
   "cell_type": "code",
   "execution_count": 260,
   "metadata": {},
   "outputs": [
    {
     "name": "stdout",
     "output_type": "stream",
     "text": [
      "pic size: 681x1024 name: data/cat_test.jpg\n",
      "pic size: 480x720 name: data/balloon.jpg\n",
      "pic size: 576x1024 name: data/cat.jpg\n",
      "pic size: 664x1080 name: data/city.jpg\n",
      "pic size: 1282x2278 name: data/city_night.jpg\n",
      "pic size: 539x959 name: data/city_color.jpg\n",
      "pic size: 600x800 name: data/flower.jpg\n",
      "pic size: 588x830 name: data/park.jpg\n"
     ]
    }
   ],
   "source": [
    "data_x , data_y = load_pic_data(\n",
    "    [\"data/cat_test.jpg\",\"data/balloon.jpg\",\"data/cat.jpg\",\"data/city.jpg\",\"data/city_night.jpg\",\"data/city_color.jpg\",\n",
    "    \"data/flower.jpg\"],\n",
    "    color=0,jumps=100)\n",
    "data_t_x , data_t_y = load_pic_data([\"data/park.jpg\"],color=1,jumps=100)\n"
   ]
  },
  {
   "cell_type": "markdown",
   "metadata": {},
   "source": [
    "## running the sim"
   ]
  },
  {
   "cell_type": "code",
   "execution_count": 261,
   "metadata": {},
   "outputs": [
    {
     "name": "stdout",
     "output_type": "stream",
     "text": [
      "i = 500, loss = 78.40645599365234\n",
      "i = 1000, loss = 58.98085403442383\n",
      "i = 1500, loss = 48.344459533691406\n",
      "i = 2000, loss = 42.495662689208984\n",
      "i = 2500, loss = 39.275753021240234\n",
      "i = 3000, loss = 37.50114822387695\n",
      "i = 3500, loss = 36.52198791503906\n",
      "i = 4000, loss = 35.9809684753418\n",
      "i = 4500, loss = 35.6815185546875\n",
      "i = 5000, loss = 35.51541519165039\n",
      "i = 5500, loss = 35.423011779785156\n",
      "i = 6000, loss = 35.37141799926758\n",
      "i = 6500, loss = 35.34247589111328\n",
      "i = 7000, loss = 35.32614517211914\n",
      "i = 7500, loss = 35.31686019897461\n",
      "i = 8000, loss = 35.3115348815918\n",
      "i = 8500, loss = 35.30844497680664\n",
      "i = 9000, loss = 35.30662536621094\n",
      "i = 9500, loss = 35.30553436279297\n"
     ]
    }
   ],
   "source": [
    "sess = tf.Session()\n",
    "sess.run(tf.global_variables_initializer())\n",
    "show = 10\n",
    "loss_in_time = []\n",
    "w_arr = []\n",
    "test_over_time = []\n",
    "for i in range(0,10000):\n",
    "       sess.run(update, feed_dict = {x:data_x, y:data_y})\n",
    "       if(i%show==0 and i>100):\n",
    "              tmp = sess.run(loss,feed_dict={x:data_x,y:data_y})\n",
    "              loss_in_time.append(tmp)\n",
    "              w_arr.append(sess.run(w))\n",
    "              if(i%(show*50)==0):\n",
    "                     print(f\"i = {i}, loss = {tmp}\")\n",
    "              \n",
    "              test_over_time.append(sess.run(loss,feed_dict={x:data_t_x,y:data_t_y}))\n",
    "              #  w = {sess.run(w)}, b = {sess.run(b)},\n"
   ]
  },
  {
   "cell_type": "markdown",
   "metadata": {},
   "source": [
    "## printing and testing"
   ]
  },
  {
   "cell_type": "code",
   "execution_count": 262,
   "metadata": {},
   "outputs": [
    {
     "data": {
      "image/png": "[encoded data removed]",
      "text/plain": [
       "<Figure size 432x288 with 1 Axes>"
      ]
     },
     "metadata": {
      "needs_background": "light"
     },
     "output_type": "display_data"
    },
    {
     "data": {
      "image/png": "[encoded data removed]",
      "text/plain": [
       "<Figure size 432x288 with 1 Axes>"
      ]
     },
     "metadata": {
      "needs_background": "light"
     },
     "output_type": "display_data"
    }
   ],
   "source": [
    "d = np.array(np.array(w_arr).transpose()[0]).transpose()\n",
    "plt.plot(d)\n",
    "plt.ylabel('w over time')\n",
    "plt.show()\n",
    "\n",
    "plt.plot(loss_in_time,label =\"loss\")\n",
    "plt.plot(test_over_time , label =\"test\")\n",
    "plt.legend()\n",
    "plt.ylabel('loss over time')\n",
    "plt.show()\n",
    "\n",
    "# data_x , data_y = get_XY_from_image(\"cat.jpg\",0)\n",
    "\n",
    "# print(f\"loss test: {sess.run(loss,feed_dict={x:data_x,y:data_y})}\")\n",
    "\n",
    "# print(f\"w = {sess.run(w)}\")\n",
    "# print(f\"b = {sess.run(b)} \")\n",
    "# print(f\"predict = {np.matmul([5,15,10],sess.run(w))+sess.run(b)}\")"
   ]
  },
  {
   "cell_type": "markdown",
   "metadata": {},
   "source": [
    "## show the calc image"
   ]
  },
  {
   "cell_type": "code",
   "execution_count": 263,
   "metadata": {},
   "outputs": [
    {
     "name": "stdout",
     "output_type": "stream",
     "text": [
      "pic size: 588x830 name: data/park.jpg\n",
      "pic size: 588x830 name: data/park.jpg\n",
      "pic size: 588x830 name: data/park.jpg\n",
      "271.76105\n",
      "261.90445\n",
      "273.99213\n"
     ]
    }
   ],
   "source": [
    "\n",
    "red, r_tmp = load_pic_data([\"data/park.jpg\"],0,jumps=1)\n",
    "green, g_tmp = load_pic_data([\"data/park.jpg\"],1,jumps=1)\n",
    "blue, b_tmp = load_pic_data([\"data/park.jpg\"],2,jumps=1)\n",
    "size_x = 588\n",
    "size_y = 830\n",
    "red_calculated_mat = np.reshape(np.matmul(red,sess.run(w))+sess.run(b),(size_x-2,size_y-2))\n",
    "green_calculated_mat = np.reshape(np.matmul(green,sess.run(w))+sess.run(b),(size_x-2,size_y-2))\n",
    "blue_calculated_mat = np.reshape(np.matmul(blue,sess.run(w))+sess.run(b),(size_x-2,size_y-2))\n",
    "\n",
    "arr = np.zeros((size_x-2,size_y-2,3))\n",
    "arr[:,:,0] = np.reshape(r_tmp,(size_x-2,size_y-2))\n",
    "arr[:,:,1] = np.reshape(g_tmp,(size_x-2,size_y-2))\n",
    "arr[:,:,2] = np.reshape(b_tmp,(size_x-2,size_y-2))\n",
    "\n",
    "arr_calc = np.zeros((size_x-2,size_y-2,3))\n",
    "arr_calc[:,:,0] = red_calculated_mat\n",
    "arr_calc[:,:,1] = green_calculated_mat\n",
    "arr_calc[:,:,2] = blue_calculated_mat\n",
    "\n",
    "data_RGB = np.concatenate((arr.astype('uint8'),arr_calc.astype('uint8')), axis=1)\n",
    "\n",
    "img = Image.fromarray(data_RGB,mode=\"RGB\")\n",
    "img.show(title=\"calculated\")\n",
    "print(np.max(np.matmul(red,sess.run(w))+sess.run(b)))\n",
    "print(np.max(np.matmul(green,sess.run(w))+sess.run(b)))\n",
    "print(np.max(np.matmul(blue,sess.run(w))+sess.run(b)))"
   ]
  }
 ],
 "metadata": {
  "interpreter": {
   "hash": "cf7f6088fb14ab5854b4787c97cb6c8fa67025149f7d77203f10baaeb5d74d2d"
  },
  "kernelspec": {
   "display_name": "Python 3.9.2 64-bit ('venv': venv)",
   "language": "python",
   "name": "python3"
  },
  "language_info": {
   "codemirror_mode": {
    "name": "ipython",
    "version": 3
   },
   "file_extension": ".py",
   "mimetype": "text/x-python",
   "name": "python",
   "nbconvert_exporter": "python",
   "pygments_lexer": "ipython3",
   "version": "3.9.8"
  },
  "orig_nbformat": 4
 },
 "nbformat": 4,
 "nbformat_minor": 2
}
