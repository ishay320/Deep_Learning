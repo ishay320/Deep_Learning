{
 "cells": [
  {
   "cell_type": "markdown",
   "metadata": {},
   "source": [
    "## import"
   ]
  },
  {
   "cell_type": "code",
   "execution_count": 1,
   "metadata": {},
   "outputs": [
    {
     "name": "stdout",
     "output_type": "stream",
     "text": [
      "WARNING:tensorflow:From c:\\Users\\ishay\\Desktop\\Deep_Learning\\venv\\lib\\site-packages\\tensorflow\\python\\compat\\v2_compat.py:111: disable_resource_variables (from tensorflow.python.ops.variable_scope) is deprecated and will be removed in a future version.\n",
      "Instructions for updating:\n",
      "non-resource variables are not supported in the long term\n"
     ]
    }
   ],
   "source": [
    "import tensorflow._api.v2.compat.v1 as tf\n",
    "import numpy as np\n",
    "tf.disable_v2_behavior()\n",
    "from PIL import Image \n",
    "# print('Pillow Version:', PIL.__version__)\n",
    "from numpy import asarray\n",
    "\n",
    "import matplotlib.pyplot as plt"
   ]
  },
  {
   "cell_type": "markdown",
   "metadata": {},
   "source": [
    "## initialization\n",
    "pix\n",
    "x0                      y [0 - 255]\n",
    "x1\n",
    "x2\n",
    "x3\n",
    "x4\n",
    "x5\n",
    "x6\n",
    "x7\n",
    "\n",
    "\n",
    "<!-- \n",
    "red:\n",
    "x1 x2 x3\n",
    "x4 y  x5\n",
    "x6 x7 x8 \n",
    "-->"
   ]
  },
  {
   "cell_type": "code",
   "execution_count": 2,
   "metadata": {},
   "outputs": [],
   "source": [
    "# variables\n",
    "features = 8\n",
    "y = tf.placeholder(tf.float32)\n",
    "x = tf.placeholder(tf.float32,[None,features])\n",
    "w = tf.Variable(tf.zeros([features,1]))\n",
    "b = tf.Variable(tf.zeros(1))\n",
    "\n",
    "# functions\n",
    "pred = tf.matmul(x, w) + b \n",
    "loss = tf.reduce_mean(tf.pow(pred - y, 2))\n",
    "alfa = 0.000004\n",
    "update = tf.train.GradientDescentOptimizer(alfa).minimize(loss)"
   ]
  },
  {
   "cell_type": "markdown",
   "metadata": {},
   "source": [
    "## data function"
   ]
  },
  {
   "cell_type": "code",
   "execution_count": 3,
   "metadata": {},
   "outputs": [],
   "source": [
    "def get_XY_from_image(photo_name:str,color:int,show:bool=False):\n",
    "    data = asarray(Image.open(photo_name))\n",
    "    color_arr = data[:,:,color]\n",
    "    image_color_arr = Image.fromarray(color_arr)\n",
    "    if show: image_color_arr.show()\n",
    "    data_x = []\n",
    "    data_y = []\n",
    "    print(f\"pic size: {len(color_arr)}x{len(color_arr[0])}\")\n",
    "    for i in range(1,len(color_arr)-1):\n",
    "        for j in range(1,len(color_arr[0])-1):\n",
    "            temp_y = [color_arr[i][j]]\n",
    "            temp_x = [color_arr[i-1][j-1],color_arr[i-1][j],color_arr[i][j-1],color_arr[i+1][j],color_arr[i][j+1],color_arr[i+1][j+1],color_arr[i-1][j+1],color_arr[i+1][j-1]]\n",
    "            data_y.append(temp_y)\n",
    "            data_x.append(temp_x)\n",
    "    # data_x = np.array(data_x)\n",
    "    # data_y = np.array(data_y)\n",
    "    return (data_x,data_y)"
   ]
  },
  {
   "cell_type": "markdown",
   "metadata": {},
   "source": [
    "## get data"
   ]
  },
  {
   "cell_type": "code",
   "execution_count": 4,
   "metadata": {},
   "outputs": [
    {
     "name": "stdout",
     "output_type": "stream",
     "text": [
      "pic size: 480x720\n",
      "pic size: 576x1024\n",
      "pic size: 681x1024\n"
     ]
    }
   ],
   "source": [
    "data_x , data_y = get_XY_from_image(\"data/balloon.jpg\",0)\n",
    "data_t_x , data_t_y = get_XY_from_image(\"data/cat.jpg\",0)\n",
    "data_x = np.append(data_x,data_t_x,axis=0)\n",
    "data_y = np.append(data_y,data_t_y,axis=0)\n",
    "data_x = np.array(data_x)\n",
    "data_y = np.array(data_y)\n",
    "data_t_x , data_t_y = get_XY_from_image(\"data/cat_test.jpg\",0)\n",
    "data_t_x = np.array(data_t_x)\n",
    "data_t_y = np.array(data_t_y)\n"
   ]
  },
  {
   "cell_type": "markdown",
   "metadata": {},
   "source": [
    "## running the sim"
   ]
  },
  {
   "cell_type": "code",
   "execution_count": 5,
   "metadata": {},
   "outputs": [
    {
     "name": "stdout",
     "output_type": "stream",
     "text": [
      "i = 200, loss = 140.99893188476562\n",
      "i = 300, loss = 129.9231414794922\n",
      "i = 400, loss = 120.43297576904297\n",
      "i = 500, loss = 112.30065155029297\n",
      "i = 600, loss = 105.33131408691406\n",
      "i = 700, loss = 99.35828399658203\n",
      "i = 800, loss = 94.23894500732422\n",
      "i = 900, loss = 89.85116577148438\n",
      "i = 1000, loss = 86.09025573730469\n",
      "i = 1100, loss = 82.86669158935547\n",
      "i = 1200, loss = 80.10360717773438\n",
      "i = 1300, loss = 77.73521423339844\n",
      "i = 1400, loss = 75.70512390136719\n",
      "i = 1500, loss = 73.96499633789062\n",
      "i = 1600, loss = 72.4734115600586\n",
      "i = 1700, loss = 71.19486236572266\n",
      "i = 1800, loss = 70.09892272949219\n",
      "i = 1900, loss = 69.15953063964844\n",
      "i = 2000, loss = 68.35428619384766\n",
      "i = 2100, loss = 67.66405487060547\n",
      "i = 2200, loss = 67.07240295410156\n",
      "i = 2300, loss = 66.56526184082031\n",
      "i = 2400, loss = 66.13053894042969\n",
      "i = 2500, loss = 65.75790405273438\n",
      "i = 2600, loss = 65.43848419189453\n",
      "i = 2700, loss = 65.16468811035156\n",
      "i = 2800, loss = 64.93000030517578\n",
      "i = 2900, loss = 64.72882080078125\n",
      "i = 3000, loss = 64.5563735961914\n",
      "i = 3100, loss = 64.40855407714844\n",
      "i = 3200, loss = 64.28184509277344\n",
      "i = 3300, loss = 64.17323303222656\n",
      "i = 3400, loss = 64.08014678955078\n",
      "i = 3500, loss = 64.00032806396484\n",
      "i = 3600, loss = 63.93192672729492\n",
      "i = 3700, loss = 63.873287200927734\n",
      "i = 3800, loss = 63.82302474975586\n",
      "i = 3900, loss = 63.779937744140625\n",
      "i = 4000, loss = 63.743003845214844\n",
      "i = 4100, loss = 63.71134567260742\n",
      "i = 4200, loss = 63.6842155456543\n",
      "i = 4300, loss = 63.66094970703125\n",
      "i = 4400, loss = 63.641014099121094\n",
      "i = 4500, loss = 63.62392044067383\n",
      "i = 4600, loss = 63.60927200317383\n",
      "i = 4700, loss = 63.596710205078125\n",
      "i = 4800, loss = 63.585941314697266\n",
      "i = 4900, loss = 63.57671356201172\n",
      "i = 5000, loss = 63.56879425048828\n",
      "i = 5100, loss = 63.56201171875\n",
      "i = 5200, loss = 63.55620193481445\n",
      "i = 5300, loss = 63.55122756958008\n",
      "i = 5400, loss = 63.54694747924805\n",
      "i = 5500, loss = 63.54328918457031\n",
      "i = 5600, loss = 63.5401496887207\n",
      "i = 5700, loss = 63.537452697753906\n",
      "i = 5800, loss = 63.5351448059082\n",
      "i = 5900, loss = 63.533172607421875\n",
      "i = 6000, loss = 63.5314826965332\n",
      "i = 6100, loss = 63.530025482177734\n",
      "i = 6200, loss = 63.528778076171875\n",
      "i = 6300, loss = 63.527713775634766\n",
      "i = 6400, loss = 63.52679443359375\n",
      "i = 6500, loss = 63.52600860595703\n",
      "i = 6600, loss = 63.52534103393555\n",
      "i = 6700, loss = 63.52476119995117\n",
      "i = 6800, loss = 63.52426528930664\n",
      "i = 6900, loss = 63.52384948730469\n",
      "i = 7000, loss = 63.523475646972656\n",
      "i = 7100, loss = 63.52316665649414\n",
      "i = 7200, loss = 63.52290344238281\n",
      "i = 7300, loss = 63.52266311645508\n",
      "i = 7400, loss = 63.52246856689453\n",
      "i = 7500, loss = 63.522308349609375\n",
      "i = 7600, loss = 63.522159576416016\n",
      "i = 7700, loss = 63.522037506103516\n",
      "i = 7800, loss = 63.521934509277344\n",
      "i = 7900, loss = 63.5218391418457\n",
      "i = 8000, loss = 63.52175521850586\n",
      "i = 8100, loss = 63.521690368652344\n",
      "i = 8200, loss = 63.52163314819336\n",
      "i = 8300, loss = 63.521583557128906\n",
      "i = 8400, loss = 63.52153396606445\n",
      "i = 8500, loss = 63.52151107788086\n",
      "i = 8600, loss = 63.52146911621094\n",
      "i = 8700, loss = 63.52143859863281\n",
      "i = 8800, loss = 63.521419525146484\n",
      "i = 8900, loss = 63.521400451660156\n",
      "i = 9000, loss = 63.52137756347656\n",
      "i = 9100, loss = 63.52136993408203\n",
      "i = 9200, loss = 63.52135467529297\n",
      "i = 9300, loss = 63.52133560180664\n",
      "i = 9400, loss = 63.52132797241211\n",
      "i = 9500, loss = 63.521324157714844\n",
      "i = 9600, loss = 63.52132034301758\n",
      "i = 9700, loss = 63.52131271362305\n",
      "i = 9800, loss = 63.52130126953125\n",
      "i = 9900, loss = 63.521297454833984\n"
     ]
    }
   ],
   "source": [
    "sess = tf.Session()\n",
    "sess.run(tf.global_variables_initializer())\n",
    "show = 10\n",
    "loss_in_time = []\n",
    "w_arr = []\n",
    "test_over_time = []\n",
    "for i in range(0,10000):\n",
    "       sess.run(update, feed_dict = {x:data_x, y:data_y})\n",
    "       if(i%show==0 and i>100):\n",
    "              tmp = sess.run(loss,feed_dict={x:data_x,y:data_y})\n",
    "              loss_in_time.append(tmp)\n",
    "              w_arr.append(sess.run(w))\n",
    "              if(i%(show*10)==0):\n",
    "                     print(f\"i = {i}, loss = {tmp}\")\n",
    "              \n",
    "              test_over_time.append(sess.run(loss,feed_dict={x:data_t_x,y:data_t_y}))\n",
    "              #  w = {sess.run(w)}, b = {sess.run(b)},\n"
   ]
  },
  {
   "cell_type": "markdown",
   "metadata": {},
   "source": [
    "## printing and testing"
   ]
  },
  {
   "cell_type": "code",
   "execution_count": 6,
   "metadata": {},
   "outputs": [
    {
     "data": {
      "image/png": "[encoded data removed]",
      "text/plain": [
       "<Figure size 432x288 with 1 Axes>"
      ]
     },
     "metadata": {
      "needs_background": "light"
     },
     "output_type": "display_data"
    },
    {
     "data": {
      "image/png": "[encoded data removed]",
      "text/plain": [
       "<Figure size 432x288 with 1 Axes>"
      ]
     },
     "metadata": {
      "needs_background": "light"
     },
     "output_type": "display_data"
    }
   ],
   "source": [
    "d = np.array(np.array(w_arr).transpose()[0]).transpose()\n",
    "plt.plot(d)\n",
    "plt.ylabel('w over time')\n",
    "plt.show()\n",
    "\n",
    "plt.plot(loss_in_time,label =\"loss\")\n",
    "plt.plot(test_over_time , label =\"test\")\n",
    "plt.legend()\n",
    "plt.ylabel('loss over time')\n",
    "plt.show()\n",
    "\n",
    "# data_x , data_y = get_XY_from_image(\"cat.jpg\",0)\n",
    "\n",
    "# print(f\"loss test: {sess.run(loss,feed_dict={x:data_x,y:data_y})}\")\n",
    "\n",
    "# print(f\"w = {sess.run(w)}\")\n",
    "# print(f\"b = {sess.run(b)} \")\n",
    "# print(f\"predict = {np.matmul([5,15,10],sess.run(w))+sess.run(b)}\")"
   ]
  },
  {
   "cell_type": "code",
   "execution_count": null,
   "metadata": {},
   "outputs": [],
   "source": []
  }
 ],
 "metadata": {
  "interpreter": {
   "hash": "cf7f6088fb14ab5854b4787c97cb6c8fa67025149f7d77203f10baaeb5d74d2d"
  },
  "kernelspec": {
   "display_name": "Python 3.9.2 64-bit ('venv': venv)",
   "language": "python",
   "name": "python3"
  },
  "language_info": {
   "codemirror_mode": {
    "name": "ipython",
    "version": 3
   },
   "file_extension": ".py",
   "mimetype": "text/x-python",
   "name": "python",
   "nbconvert_exporter": "python",
   "pygments_lexer": "ipython3",
   "version": "3.9.2"
  },
  "orig_nbformat": 4
 },
 "nbformat": 4,
 "nbformat_minor": 2
}
