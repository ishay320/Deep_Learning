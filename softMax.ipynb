{
 "cells": [
  {
   "cell_type": "markdown",
   "metadata": {},
   "source": [
    "## import"
   ]
  },
  {
   "cell_type": "code",
   "execution_count": 1,
   "metadata": {},
   "outputs": [
    {
     "name": "stdout",
     "output_type": "stream",
     "text": [
      "WARNING:tensorflow:From c:\\Users\\ishay\\Desktop\\Deep_Learning\\venv\\lib\\site-packages\\tensorflow\\python\\compat\\v2_compat.py:111: disable_resource_variables (from tensorflow.python.ops.variable_scope) is deprecated and will be removed in a future version.\n",
      "Instructions for updating:\n",
      "non-resource variables are not supported in the long term\n"
     ]
    }
   ],
   "source": [
    "import tensorflow._api.v2.compat.v1 as tf\n",
    "import numpy as np\n",
    "tf.disable_v2_behavior()\n",
    "\n",
    "import matplotlib.pyplot as plt"
   ]
  },
  {
   "cell_type": "markdown",
   "metadata": {},
   "source": [
    "## initialization\n"
   ]
  },
  {
   "cell_type": "code",
   "execution_count": 23,
   "metadata": {},
   "outputs": [],
   "source": [
    "# variables\n",
    "features = 3\n",
    "categories = 2\n",
    "x = tf.placeholder(tf.float32, [None, features])\n",
    "y = tf.placeholder(tf.float32, [None, categories])\n",
    "w = tf.Variable(tf.zeros([features,categories]))\n",
    "b = tf.Variable(tf.zeros([categories]))\n",
    "\n",
    "# functions\n",
    "pred = tf.nn.softmax(tf.matmul(x, w) + b) # softMax function\n",
    "loss = -tf.reduce_mean(y*tf.log(pred)) # Average cross entropy loss\n",
    "alfa = 0.004\n",
    "update = tf.train.GradientDescentOptimizer(0.001).minimize(loss)\n"
   ]
  },
  {
   "cell_type": "markdown",
   "metadata": {},
   "source": [
    "## data\n",
    " x is  [ job,car,age ] and check if he is successful or not\n"
   ]
  },
  {
   "cell_type": "code",
   "execution_count": 18,
   "metadata": {},
   "outputs": [],
   "source": [
    "data_x = [[1,1,46],[1,0,21],[0,1,61],[0,0,27],[0,0,32],[0,1,30],[1,0,10]]\n",
    "data_y = [[1,0],[1,0],[1,0],[0,1],[0,1],[0,1],[0,1]]\n",
    "\n",
    "data_t_x = [[1,1,27],[1,1,14],[1,0,12],[1,1,37]]\n",
    "data_t_y = [[1,0],[0,1],[0,1],[1,0]]"
   ]
  },
  {
   "cell_type": "markdown",
   "metadata": {},
   "source": [
    "## running the sim"
   ]
  },
  {
   "cell_type": "code",
   "execution_count": 19,
   "metadata": {},
   "outputs": [
    {
     "name": "stdout",
     "output_type": "stream",
     "text": [
      "i = 500, loss = 0.3383682072162628\n",
      "i = 1000, loss = 0.33365321159362793\n",
      "i = 1500, loss = 0.32907989621162415\n",
      "i = 2000, loss = 0.32464244961738586\n",
      "i = 2500, loss = 0.3203352093696594\n",
      "i = 3000, loss = 0.3161528706550598\n",
      "i = 3500, loss = 0.31209033727645874\n",
      "i = 4000, loss = 0.30814284086227417\n",
      "i = 4500, loss = 0.3043057322502136\n",
      "i = 5000, loss = 0.3005746006965637\n",
      "i = 5500, loss = 0.29694536328315735\n",
      "i = 6000, loss = 0.29341402649879456\n",
      "i = 6500, loss = 0.28997674584388733\n",
      "i = 7000, loss = 0.28662994503974915\n",
      "i = 7500, loss = 0.2833702266216278\n",
      "i = 8000, loss = 0.2801942229270935\n",
      "i = 8500, loss = 0.27709880471229553\n",
      "i = 9000, loss = 0.2740810513496399\n",
      "i = 9500, loss = 0.2711380422115326\n",
      "i = 10000, loss = 0.26826709508895874\n",
      "i = 10500, loss = 0.2654655873775482\n",
      "i = 11000, loss = 0.26273104548454285\n",
      "i = 11500, loss = 0.2600610554218292\n",
      "i = 12000, loss = 0.25745338201522827\n",
      "i = 12500, loss = 0.2549057900905609\n",
      "i = 13000, loss = 0.25241637229919434\n",
      "i = 13500, loss = 0.24998287856578827\n",
      "i = 14000, loss = 0.2476036548614502\n",
      "i = 14500, loss = 0.24527671933174133\n",
      "i = 15000, loss = 0.24300040304660797\n",
      "i = 15500, loss = 0.24077296257019043\n",
      "i = 16000, loss = 0.2385929375886917\n",
      "i = 16500, loss = 0.2364586740732193\n",
      "i = 17000, loss = 0.23436875641345978\n",
      "i = 17500, loss = 0.23232178390026093\n",
      "i = 18000, loss = 0.2303163707256317\n",
      "i = 18500, loss = 0.22835125029087067\n",
      "i = 19000, loss = 0.22642524540424347\n",
      "i = 19500, loss = 0.22453700006008148\n",
      "i = 20000, loss = 0.2226855307817459\n",
      "i = 20500, loss = 0.22086966037750244\n",
      "i = 21000, loss = 0.2190883308649063\n",
      "i = 21500, loss = 0.21734054386615753\n",
      "i = 22000, loss = 0.21562547981739044\n",
      "i = 22500, loss = 0.2139417976140976\n",
      "i = 23000, loss = 0.21228905022144318\n",
      "i = 23500, loss = 0.21066617965698242\n",
      "i = 24000, loss = 0.20907218754291534\n",
      "i = 24500, loss = 0.20750649273395538\n",
      "i = 25000, loss = 0.20596830546855927\n",
      "i = 25500, loss = 0.20445670187473297\n",
      "i = 26000, loss = 0.20297123491764069\n",
      "i = 26500, loss = 0.20151101052761078\n",
      "i = 27000, loss = 0.20007528364658356\n",
      "i = 27500, loss = 0.19866381585597992\n",
      "i = 28000, loss = 0.19727560877799988\n",
      "i = 28500, loss = 0.1959100067615509\n",
      "i = 29000, loss = 0.19456668198108673\n",
      "i = 29500, loss = 0.19324512779712677\n",
      "i = 30000, loss = 0.19194456934928894\n",
      "i = 30500, loss = 0.1906646490097046\n",
      "i = 31000, loss = 0.1894047111272812\n",
      "i = 31500, loss = 0.18816430866718292\n",
      "i = 32000, loss = 0.18694309890270233\n",
      "i = 32500, loss = 0.18574050068855286\n",
      "i = 33000, loss = 0.18455611169338226\n",
      "i = 33500, loss = 0.18338939547538757\n",
      "i = 34000, loss = 0.18224011361598969\n",
      "i = 34500, loss = 0.1811080127954483\n",
      "i = 35000, loss = 0.1799924075603485\n",
      "i = 35500, loss = 0.17889292538166046\n",
      "i = 36000, loss = 0.17780911922454834\n",
      "i = 36500, loss = 0.17674116790294647\n",
      "i = 37000, loss = 0.1756882220506668\n",
      "i = 37500, loss = 0.17464981973171234\n",
      "i = 38000, loss = 0.1736263781785965\n",
      "i = 38500, loss = 0.17261679470539093\n",
      "i = 39000, loss = 0.1716211587190628\n",
      "i = 39500, loss = 0.17063917219638824\n",
      "i = 40000, loss = 0.16967029869556427\n",
      "i = 40500, loss = 0.16871468722820282\n",
      "i = 41000, loss = 0.16777166724205017\n",
      "i = 41500, loss = 0.16684125363826752\n",
      "i = 42000, loss = 0.16592299938201904\n",
      "i = 42500, loss = 0.16501657664775848\n",
      "i = 43000, loss = 0.16412219405174255\n",
      "i = 43500, loss = 0.16323904693126678\n",
      "i = 44000, loss = 0.16236741840839386\n",
      "i = 44500, loss = 0.1615067571401596\n",
      "i = 45000, loss = 0.16065678000450134\n",
      "i = 45500, loss = 0.1598176658153534\n",
      "i = 46000, loss = 0.15898887813091278\n",
      "i = 46500, loss = 0.15817055106163025\n",
      "i = 47000, loss = 0.15736179053783417\n",
      "i = 47500, loss = 0.1565631777048111\n",
      "i = 48000, loss = 0.15577414631843567\n",
      "i = 48500, loss = 0.15499475598335266\n",
      "i = 49000, loss = 0.1542244702577591\n",
      "i = 49500, loss = 0.15346314013004303\n",
      "i = 50000, loss = 0.1527108997106552\n",
      "i = 50500, loss = 0.1519678682088852\n",
      "i = 51000, loss = 0.15123331546783447\n",
      "i = 51500, loss = 0.15050698816776276\n",
      "i = 52000, loss = 0.14978905022144318\n",
      "i = 52500, loss = 0.14907953143119812\n",
      "i = 53000, loss = 0.14837782084941864\n",
      "i = 53500, loss = 0.14768384397029877\n",
      "i = 54000, loss = 0.1469980925321579\n",
      "i = 54500, loss = 0.14631979167461395\n",
      "i = 55000, loss = 0.14564873278141022\n",
      "i = 55500, loss = 0.14498551189899445\n",
      "i = 56000, loss = 0.14432935416698456\n",
      "i = 56500, loss = 0.14368006587028503\n",
      "i = 57000, loss = 0.1430383026599884\n",
      "i = 57500, loss = 0.14240320026874542\n",
      "i = 58000, loss = 0.14177469909191132\n",
      "i = 58500, loss = 0.1411532759666443\n",
      "i = 59000, loss = 0.1405380517244339\n",
      "i = 59500, loss = 0.1399294137954712\n",
      "i = 60000, loss = 0.13932618498802185\n",
      "i = 60500, loss = 0.13873092830181122\n",
      "i = 61000, loss = 0.1381407380104065\n",
      "i = 61500, loss = 0.13755710422992706\n",
      "i = 62000, loss = 0.13697931170463562\n",
      "i = 62500, loss = 0.1364067941904068\n",
      "i = 63000, loss = 0.13584108650684357\n",
      "i = 63500, loss = 0.13527940213680267\n",
      "i = 64000, loss = 0.13472533226013184\n",
      "i = 64500, loss = 0.13417570292949677\n",
      "i = 65000, loss = 0.13363142311573029\n",
      "i = 65500, loss = 0.13309332728385925\n",
      "i = 66000, loss = 0.13255837559700012\n",
      "i = 66500, loss = 0.13203157484531403\n",
      "i = 67000, loss = 0.13150787353515625\n",
      "i = 67500, loss = 0.13098962604999542\n",
      "i = 68000, loss = 0.13047701120376587\n",
      "i = 68500, loss = 0.12996762990951538\n",
      "i = 69000, loss = 0.12946493923664093\n",
      "i = 69500, loss = 0.12896621227264404\n",
      "i = 70000, loss = 0.12847092747688293\n",
      "i = 70500, loss = 0.12798269093036652\n",
      "i = 71000, loss = 0.1274973303079605\n",
      "i = 71500, loss = 0.12701638042926788\n",
      "i = 72000, loss = 0.12654109299182892\n",
      "i = 72500, loss = 0.12606893479824066\n",
      "i = 73000, loss = 0.12560102343559265\n",
      "i = 73500, loss = 0.12513881921768188\n",
      "i = 74000, loss = 0.12467867881059647\n",
      "i = 74500, loss = 0.12422401458024979\n",
      "i = 75000, loss = 0.12377361208200455\n",
      "i = 75500, loss = 0.12332623451948166\n",
      "i = 76000, loss = 0.12288299947977066\n",
      "i = 76500, loss = 0.12244471162557602\n",
      "i = 77000, loss = 0.12200900167226791\n",
      "i = 77500, loss = 0.121576689183712\n",
      "i = 78000, loss = 0.12115021795034409\n",
      "i = 78500, loss = 0.12072557955980301\n",
      "i = 79000, loss = 0.120304174721241\n",
      "i = 79500, loss = 0.1198885515332222\n",
      "i = 80000, loss = 0.11947519332170486\n",
      "i = 80500, loss = 0.11906437575817108\n",
      "i = 81000, loss = 0.11865834146738052\n",
      "i = 81500, loss = 0.11825614422559738\n",
      "i = 82000, loss = 0.11785577237606049\n",
      "i = 82500, loss = 0.1174587681889534\n",
      "i = 83000, loss = 0.11706694215536118\n",
      "i = 83500, loss = 0.1166766956448555\n",
      "i = 84000, loss = 0.11628907173871994\n",
      "i = 84500, loss = 0.11590639501810074\n",
      "i = 85000, loss = 0.1155262216925621\n",
      "i = 85500, loss = 0.11514867842197418\n",
      "i = 86000, loss = 0.114773228764534\n",
      "i = 86500, loss = 0.11440305411815643\n",
      "i = 87000, loss = 0.11403511464595795\n",
      "i = 87500, loss = 0.11366862803697586\n",
      "i = 88000, loss = 0.1133057102560997\n",
      "i = 88500, loss = 0.11294712871313095\n",
      "i = 89000, loss = 0.11258995532989502\n",
      "i = 89500, loss = 0.11223509162664413\n",
      "i = 90000, loss = 0.11188369989395142\n",
      "i = 90500, loss = 0.11153560131788254\n",
      "i = 91000, loss = 0.11118985712528229\n",
      "i = 91500, loss = 0.11084563285112381\n",
      "i = 92000, loss = 0.1105043888092041\n",
      "i = 92500, loss = 0.11016743630170822\n",
      "i = 93000, loss = 0.10983195155858994\n",
      "i = 93500, loss = 0.10949774086475372\n",
      "i = 94000, loss = 0.10916672646999359\n",
      "i = 94500, loss = 0.10883978754281998\n",
      "i = 95000, loss = 0.10851408541202545\n",
      "i = 95500, loss = 0.10819033533334732\n",
      "i = 96000, loss = 0.10786818712949753\n",
      "i = 96500, loss = 0.1075507327914238\n",
      "i = 97000, loss = 0.10723496973514557\n",
      "i = 97500, loss = 0.10692105442285538\n",
      "i = 98000, loss = 0.10660827159881592\n",
      "i = 98500, loss = 0.10629846900701523\n",
      "i = 99000, loss = 0.10599255561828613\n",
      "i = 99500, loss = 0.10568777471780777\n"
     ]
    }
   ],
   "source": [
    "sess = tf.Session()\n",
    "sess.run(tf.global_variables_initializer())\n",
    "show = 10\n",
    "loss_in_time = []\n",
    "w_arr = []\n",
    "test_over_time = []\n",
    "for i in range(0,100000):\n",
    "       sess.run(update, feed_dict = {x:data_x, y:data_y})\n",
    "       if(i%show==0 and i>100):\n",
    "              tmp = sess.run(loss,feed_dict={x:data_x,y:data_y})\n",
    "              loss_in_time.append(tmp)\n",
    "              w_arr.append(sess.run(w))\n",
    "              if(i%(show*50)==0):\n",
    "                     print(f\"i = {i}, loss = {tmp}\")\n",
    "              \n",
    "              test_over_time.append(sess.run(loss,feed_dict={x:data_t_x,y:data_t_y}))\n"
   ]
  },
  {
   "cell_type": "markdown",
   "metadata": {},
   "source": [
    "## printing and testing"
   ]
  },
  {
   "cell_type": "code",
   "execution_count": 20,
   "metadata": {},
   "outputs": [
    {
     "data": {
      "image/png": "[encoded data removed]",
      "text/plain": [
       "<Figure size 432x288 with 1 Axes>"
      ]
     },
     "metadata": {
      "needs_background": "light"
     },
     "output_type": "display_data"
    },
    {
     "data": {
      "image/png": "[encoded data removed]",
      "text/plain": [
       "<Figure size 432x288 with 1 Axes>"
      ]
     },
     "metadata": {
      "needs_background": "light"
     },
     "output_type": "display_data"
    }
   ],
   "source": [
    "# TODO: add more w's and d\n",
    "# TODO: add precision\n",
    "d = np.array(np.array(w_arr).transpose()[0]).transpose()\n",
    "plt.plot(d,label = [1,2,3])\n",
    "plt.legend()\n",
    "plt.ylabel('w over time')\n",
    "plt.show()\n",
    "\n",
    "plt.plot(loss_in_time,label =\"loss\")\n",
    "plt.plot(test_over_time , label =\"test\")\n",
    "plt.legend()\n",
    "plt.ylabel('loss over time')\n",
    "plt.show()"
   ]
  },
  {
   "cell_type": "markdown",
   "metadata": {},
   "source": [
    "## show random check"
   ]
  },
  {
   "cell_type": "code",
   "execution_count": 22,
   "metadata": {},
   "outputs": [
    {
     "name": "stdout",
     "output_type": "stream",
     "text": [
      "[[0.9592744  0.04072561]]\n",
      "[[0.05693396 0.943066  ]]\n"
     ]
    }
   ],
   "source": [
    "print(sess.run(pred,feed_dict={x:[[0,1,70]]}))\n",
    "print(sess.run(pred,feed_dict={x:[[0,1,20]]}))"
   ]
  }
 ],
 "metadata": {
  "interpreter": {
   "hash": "cf7f6088fb14ab5854b4787c97cb6c8fa67025149f7d77203f10baaeb5d74d2d"
  },
  "kernelspec": {
   "display_name": "Python 3.9.2 64-bit ('venv': venv)",
   "language": "python",
   "name": "python3"
  },
  "language_info": {
   "codemirror_mode": {
    "name": "ipython",
    "version": 3
   },
   "file_extension": ".py",
   "mimetype": "text/x-python",
   "name": "python",
   "nbconvert_exporter": "python",
   "pygments_lexer": "ipython3",
   "version": "3.9.2"
  },
  "orig_nbformat": 4
 },
 "nbformat": 4,
 "nbformat_minor": 2
}
