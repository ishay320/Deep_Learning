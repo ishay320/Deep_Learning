{
 "cells": [
  {
   "cell_type": "markdown",
   "metadata": {},
   "source": [
    "## import"
   ]
  },
  {
   "cell_type": "code",
   "execution_count": 68,
   "metadata": {},
   "outputs": [],
   "source": [
    "import tensorflow._api.v2.compat.v1 as tf\n",
    "import numpy as np\n",
    "tf.disable_v2_behavior()\n",
    "\n",
    "import matplotlib.pyplot as plt"
   ]
  },
  {
   "cell_type": "markdown",
   "metadata": {},
   "source": [
    "## initialization\n"
   ]
  },
  {
   "cell_type": "code",
   "execution_count": 69,
   "metadata": {},
   "outputs": [],
   "source": [
    "# variables\n",
    "features = 3\n",
    "eps = 1e-12\n",
    "y = tf.placeholder(tf.float32, [None, 1])\n",
    "x = tf.placeholder(tf.float32,[None,features])\n",
    "w = tf.Variable(tf.zeros([features,1]))\n",
    "b = tf.Variable(tf.zeros(1))\n",
    "\n",
    "# functions\n",
    "alfa = 0.004\n",
    "pred = tf.nn.sigmoid(tf.matmul(x,w) + b) # sigmoid function\n",
    "# pred = 1 / (1.0 + tf.exp(-(tf.matmul(x,w) + b))) # tf.nn.sigmoid_cross_entropy_with_logits() \n",
    "tmp_loss = -(y * tf.log(pred + eps) + (1 - y) * tf.log( 1 - pred + eps))\n",
    "loss = tf.reduce_mean(tmp_loss)\n",
    "update = tf.train.GradientDescentOptimizer(0.001).minimize(loss)\n"
   ]
  },
  {
   "cell_type": "markdown",
   "metadata": {},
   "source": [
    "## data\n",
    " x is  [ job,car,age ] and check if he is successful\n"
   ]
  },
  {
   "cell_type": "code",
   "execution_count": 70,
   "metadata": {},
   "outputs": [],
   "source": [
    "data_x = [[1,1,46],[1,0,21],[0,1,61],[0,0,27],[0,0,32],[0,1,30],[1,0,10]]\n",
    "data_y = [[1],[1],[1],[0],[0],[0],[0]]\n",
    "\n",
    "data_t_x = [[1,1,27],[1,1,14],[1,0,12],[1,1,37]]\n",
    "data_t_y = [[1],[0],[0],[1]]"
   ]
  },
  {
   "cell_type": "markdown",
   "metadata": {},
   "source": [
    "## running the sim"
   ]
  },
  {
   "cell_type": "code",
   "execution_count": 71,
   "metadata": {},
   "outputs": [
    {
     "name": "stdout",
     "output_type": "stream",
     "text": [
      "i = 500, loss = 0.6767364144325256\n",
      "i = 1000, loss = 0.6673064231872559\n",
      "i = 1500, loss = 0.6581597924232483\n",
      "i = 2000, loss = 0.6492848992347717\n",
      "i = 2500, loss = 0.6406704783439636\n",
      "i = 3000, loss = 0.6323056817054749\n",
      "i = 3500, loss = 0.6241807341575623\n",
      "i = 4000, loss = 0.6162856817245483\n",
      "i = 4500, loss = 0.6086114048957825\n",
      "i = 5000, loss = 0.6011492609977722\n",
      "i = 5500, loss = 0.5938907265663147\n",
      "i = 6000, loss = 0.5868280529975891\n",
      "i = 6500, loss = 0.5799534916877747\n",
      "i = 7000, loss = 0.5732598900794983\n",
      "i = 7500, loss = 0.5667403936386108\n",
      "i = 8000, loss = 0.5603883862495422\n",
      "i = 8500, loss = 0.5541976094245911\n",
      "i = 9000, loss = 0.5481621026992798\n",
      "i = 9500, loss = 0.5422762036323547\n",
      "i = 10000, loss = 0.5365342497825623\n",
      "i = 10500, loss = 0.5309311747550964\n",
      "i = 11000, loss = 0.5254620909690857\n",
      "i = 11500, loss = 0.5201221704483032\n",
      "i = 12000, loss = 0.5149068236351013\n",
      "i = 12500, loss = 0.5098116397857666\n",
      "i = 13000, loss = 0.5048327445983887\n",
      "i = 13500, loss = 0.4999658167362213\n",
      "i = 14000, loss = 0.4952073097229004\n",
      "i = 14500, loss = 0.49055343866348267\n",
      "i = 15000, loss = 0.48600080609321594\n",
      "i = 15500, loss = 0.48154592514038086\n",
      "i = 16000, loss = 0.4771859049797058\n",
      "i = 16500, loss = 0.4729173183441162\n",
      "i = 17000, loss = 0.46873754262924194\n",
      "i = 17500, loss = 0.4646436274051666\n",
      "i = 18000, loss = 0.4606327712535858\n",
      "i = 18500, loss = 0.45670250058174133\n",
      "i = 19000, loss = 0.4528505206108093\n",
      "i = 19500, loss = 0.44907402992248535\n",
      "i = 20000, loss = 0.44537100195884705\n",
      "i = 20500, loss = 0.4417393207550049\n",
      "i = 21000, loss = 0.4381766617298126\n",
      "i = 21500, loss = 0.43468108773231506\n",
      "i = 22000, loss = 0.4312509596347809\n",
      "i = 22500, loss = 0.4278836250305176\n",
      "i = 23000, loss = 0.42457810044288635\n",
      "i = 23500, loss = 0.42133235931396484\n",
      "i = 24000, loss = 0.4181443750858307\n",
      "i = 24500, loss = 0.41501304507255554\n",
      "i = 25000, loss = 0.4119366705417633\n",
      "i = 25500, loss = 0.40891340374946594\n",
      "i = 26000, loss = 0.40594249963760376\n",
      "i = 26500, loss = 0.40302202105522156\n",
      "i = 27000, loss = 0.4001505672931671\n",
      "i = 27500, loss = 0.39732757210731506\n",
      "i = 28000, loss = 0.39455124735832214\n",
      "i = 28500, loss = 0.3918199837207794\n",
      "i = 29000, loss = 0.38913339376449585\n",
      "i = 29500, loss = 0.3864902853965759\n",
      "i = 30000, loss = 0.3838891386985779\n",
      "i = 30500, loss = 0.3813292980194092\n",
      "i = 31000, loss = 0.3788094222545624\n",
      "i = 31500, loss = 0.37632864713668823\n",
      "i = 32000, loss = 0.37388619780540466\n",
      "i = 32500, loss = 0.3714810013771057\n",
      "i = 33000, loss = 0.36911219358444214\n",
      "i = 33500, loss = 0.36677879095077515\n",
      "i = 34000, loss = 0.36448022723197937\n",
      "i = 34500, loss = 0.3622160255908966\n",
      "i = 35000, loss = 0.3599848449230194\n",
      "i = 35500, loss = 0.35778579115867615\n",
      "i = 36000, loss = 0.3556182086467743\n",
      "i = 36500, loss = 0.35348233580589294\n",
      "i = 37000, loss = 0.35137635469436646\n",
      "i = 37500, loss = 0.3492996394634247\n",
      "i = 38000, loss = 0.3472526967525482\n",
      "i = 38500, loss = 0.34523358941078186\n",
      "i = 39000, loss = 0.3432423770427704\n",
      "i = 39500, loss = 0.3412782847881317\n",
      "i = 40000, loss = 0.33934053778648376\n",
      "i = 40500, loss = 0.33742934465408325\n",
      "i = 41000, loss = 0.33554333448410034\n",
      "i = 41500, loss = 0.33368250727653503\n",
      "i = 42000, loss = 0.3318459689617157\n",
      "i = 42500, loss = 0.33003315329551697\n",
      "i = 43000, loss = 0.3282443881034851\n",
      "i = 43500, loss = 0.3264780640602112\n",
      "i = 44000, loss = 0.3247348368167877\n",
      "i = 44500, loss = 0.32301345467567444\n",
      "i = 45000, loss = 0.3213135302066803\n",
      "i = 45500, loss = 0.3196352422237396\n",
      "i = 46000, loss = 0.31797775626182556\n",
      "i = 46500, loss = 0.3163410723209381\n",
      "i = 47000, loss = 0.31472355127334595\n",
      "i = 47500, loss = 0.3131263554096222\n",
      "i = 48000, loss = 0.31154829263687134\n",
      "i = 48500, loss = 0.3099895119667053\n",
      "i = 49000, loss = 0.3084489405155182\n",
      "i = 49500, loss = 0.30692631006240845\n",
      "i = 50000, loss = 0.30542176961898804\n",
      "i = 50500, loss = 0.3039357662200928\n",
      "i = 51000, loss = 0.30246660113334656\n",
      "i = 51500, loss = 0.3010140061378479\n",
      "i = 52000, loss = 0.2995780408382416\n",
      "i = 52500, loss = 0.29815903306007385\n",
      "i = 53000, loss = 0.29675570130348206\n",
      "i = 53500, loss = 0.29536765813827515\n",
      "i = 54000, loss = 0.2939961850643158\n",
      "i = 54500, loss = 0.2926395833492279\n",
      "i = 55000, loss = 0.29129743576049805\n",
      "i = 55500, loss = 0.28997093439102173\n",
      "i = 56000, loss = 0.28865867853164673\n",
      "i = 56500, loss = 0.28736013174057007\n",
      "i = 57000, loss = 0.2860766053199768\n",
      "i = 57500, loss = 0.28480640053749084\n",
      "i = 58000, loss = 0.28354939818382263\n",
      "i = 58500, loss = 0.28230658173561096\n",
      "i = 59000, loss = 0.281076043844223\n",
      "i = 59500, loss = 0.27985885739326477\n",
      "i = 60000, loss = 0.2786523699760437\n",
      "i = 60500, loss = 0.27746185660362244\n",
      "i = 61000, loss = 0.2762814164161682\n",
      "i = 61500, loss = 0.2751142084598541\n",
      "i = 62000, loss = 0.27395862340927124\n",
      "i = 62500, loss = 0.2728135883808136\n",
      "i = 63000, loss = 0.27168217301368713\n",
      "i = 63500, loss = 0.27055877447128296\n",
      "i = 64000, loss = 0.26945066452026367\n",
      "i = 64500, loss = 0.26835140585899353\n",
      "i = 65000, loss = 0.26726290583610535\n",
      "i = 65500, loss = 0.2661867141723633\n",
      "i = 66000, loss = 0.26511675119400024\n",
      "i = 66500, loss = 0.26406314969062805\n",
      "i = 67000, loss = 0.2630157470703125\n",
      "i = 67500, loss = 0.26197928190231323\n",
      "i = 68000, loss = 0.2609540522098541\n",
      "i = 68500, loss = 0.25993531942367554\n",
      "i = 69000, loss = 0.25892990827560425\n",
      "i = 69500, loss = 0.2579324543476105\n",
      "i = 70000, loss = 0.25694185495376587\n",
      "i = 70500, loss = 0.2559654116630554\n",
      "i = 71000, loss = 0.2549947202205658\n",
      "i = 71500, loss = 0.25403276085853577\n",
      "i = 72000, loss = 0.2530822157859802\n",
      "i = 72500, loss = 0.2521379292011261\n",
      "i = 73000, loss = 0.2512020766735077\n",
      "i = 73500, loss = 0.2502776086330414\n",
      "i = 74000, loss = 0.24935737252235413\n",
      "i = 74500, loss = 0.24844805896282196\n",
      "i = 75000, loss = 0.2475472241640091\n",
      "i = 75500, loss = 0.2466524839401245\n",
      "i = 76000, loss = 0.24576599895954132\n",
      "i = 76500, loss = 0.24488942325115204\n",
      "i = 77000, loss = 0.2440180480480194\n",
      "i = 77500, loss = 0.2431534081697464\n",
      "i = 78000, loss = 0.24230043590068817\n",
      "i = 78500, loss = 0.2414511740207672\n",
      "i = 79000, loss = 0.2406083345413208\n",
      "i = 79500, loss = 0.2397771179676056\n",
      "i = 80000, loss = 0.23895037174224854\n",
      "i = 80500, loss = 0.23812876641750336\n",
      "i = 81000, loss = 0.23731671273708344\n",
      "i = 81500, loss = 0.23651231825351715\n",
      "i = 82000, loss = 0.23571155965328217\n",
      "i = 82500, loss = 0.2349175661802292\n",
      "i = 83000, loss = 0.23413388431072235\n",
      "i = 83500, loss = 0.233353391289711\n",
      "i = 84000, loss = 0.2325781285762787\n",
      "i = 84500, loss = 0.2318127602338791\n",
      "i = 85000, loss = 0.231052428483963\n",
      "i = 85500, loss = 0.23029740154743195\n",
      "i = 86000, loss = 0.2295464724302292\n",
      "i = 86500, loss = 0.22880610823631287\n",
      "i = 87000, loss = 0.2280702292919159\n",
      "i = 87500, loss = 0.22733727097511292\n",
      "i = 88000, loss = 0.2266114056110382\n",
      "i = 88500, loss = 0.2258942425251007\n",
      "i = 89000, loss = 0.22517986595630646\n",
      "i = 89500, loss = 0.22447024285793304\n",
      "i = 90000, loss = 0.22376742959022522\n",
      "i = 90500, loss = 0.22307120263576508\n",
      "i = 91000, loss = 0.22237971425056458\n",
      "i = 91500, loss = 0.22169126570224762\n",
      "i = 92000, loss = 0.22100874781608582\n",
      "i = 92500, loss = 0.22033485770225525\n",
      "i = 93000, loss = 0.21966387331485748\n",
      "i = 93500, loss = 0.21899554133415222\n",
      "i = 94000, loss = 0.21833345293998718\n",
      "i = 94500, loss = 0.21767960488796234\n",
      "i = 95000, loss = 0.21702814102172852\n",
      "i = 95500, loss = 0.21638068556785583\n",
      "i = 96000, loss = 0.21573638916015625\n",
      "i = 96500, loss = 0.2151014506816864\n",
      "i = 97000, loss = 0.21446998417377472\n",
      "i = 97500, loss = 0.21384204924106598\n",
      "i = 98000, loss = 0.21321651339530945\n",
      "i = 98500, loss = 0.21259699761867523\n",
      "i = 99000, loss = 0.21198514103889465\n",
      "i = 99500, loss = 0.21137557923793793\n"
     ]
    }
   ],
   "source": [
    "sess = tf.Session()\n",
    "sess.run(tf.global_variables_initializer())\n",
    "show = 10\n",
    "loss_in_time = []\n",
    "w_arr = []\n",
    "test_over_time = []\n",
    "for i in range(0,100000):\n",
    "       sess.run(update, feed_dict = {x:data_x, y:data_y})\n",
    "       if(i%show==0 and i>100):\n",
    "              tmp = sess.run(loss,feed_dict={x:data_x,y:data_y})\n",
    "              loss_in_time.append(tmp)\n",
    "              w_arr.append(sess.run(w))\n",
    "              if(i%(show*50)==0):\n",
    "                     print(f\"i = {i}, loss = {tmp}\")\n",
    "              \n",
    "              test_over_time.append(sess.run(loss,feed_dict={x:data_t_x,y:data_t_y}))\n"
   ]
  },
  {
   "cell_type": "markdown",
   "metadata": {},
   "source": [
    "## printing and testing"
   ]
  },
  {
   "cell_type": "code",
   "execution_count": 72,
   "metadata": {},
   "outputs": [
    {
     "data": {
      "image/png": "[encoded data removed]",
      "text/plain": [
       "<Figure size 432x288 with 1 Axes>"
      ]
     },
     "metadata": {
      "needs_background": "light"
     },
     "output_type": "display_data"
    },
    {
     "data": {
      "image/png": "[encoded data removed]",
      "text/plain": [
       "<Figure size 432x288 with 1 Axes>"
      ]
     },
     "metadata": {
      "needs_background": "light"
     },
     "output_type": "display_data"
    }
   ],
   "source": [
    "d = np.array(np.array(w_arr).transpose()[0]).transpose()\n",
    "plt.plot(d,label = [1,2,3])\n",
    "plt.legend()\n",
    "plt.ylabel('w over time')\n",
    "plt.show()\n",
    "\n",
    "plt.plot(loss_in_time,label =\"loss\")\n",
    "plt.plot(test_over_time , label =\"test\")\n",
    "plt.legend()\n",
    "plt.ylabel('loss over time')\n",
    "plt.show()"
   ]
  },
  {
   "cell_type": "markdown",
   "metadata": {},
   "source": [
    "## show random check"
   ]
  },
  {
   "cell_type": "code",
   "execution_count": 73,
   "metadata": {},
   "outputs": [
    {
     "name": "stdout",
     "output_type": "stream",
     "text": [
      "[[0.9592744]]\n"
     ]
    }
   ],
   "source": [
    "print(sess.run(pred,feed_dict={x:[[0,1,70]]}))"
   ]
  }
 ],
 "metadata": {
  "interpreter": {
   "hash": "cf7f6088fb14ab5854b4787c97cb6c8fa67025149f7d77203f10baaeb5d74d2d"
  },
  "kernelspec": {
   "display_name": "Python 3.9.2 64-bit ('venv': venv)",
   "language": "python",
   "name": "python3"
  },
  "language_info": {
   "codemirror_mode": {
    "name": "ipython",
    "version": 3
   },
   "file_extension": ".py",
   "mimetype": "text/x-python",
   "name": "python",
   "nbconvert_exporter": "python",
   "pygments_lexer": "ipython3",
   "version": "3.9.2"
  },
  "orig_nbformat": 4
 },
 "nbformat": 4,
 "nbformat_minor": 2
}
