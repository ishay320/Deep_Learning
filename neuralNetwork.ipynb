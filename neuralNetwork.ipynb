{
 "cells": [
  {
   "cell_type": "markdown",
   "metadata": {},
   "source": [
    "## imports"
   ]
  },
  {
   "cell_type": "code",
   "execution_count": 1,
   "metadata": {},
   "outputs": [
    {
     "name": "stdout",
     "output_type": "stream",
     "text": [
      "WARNING:tensorflow:From c:\\Users\\ישי טרטנר\\Desktop\\Deep_Learning\\venv\\lib\\site-packages\\tensorflow\\python\\compat\\v2_compat.py:111: disable_resource_variables (from tensorflow.python.ops.variable_scope) is deprecated and will be removed in a future version.\n",
      "Instructions for updating:\n",
      "non-resource variables are not supported in the long term\n"
     ]
    }
   ],
   "source": [
    "import tensorflow._api.v2.compat.v1 as tf\n",
    "import numpy as np\n",
    "tf.disable_v2_behavior()\n",
    "from PIL import Image \n",
    "# print('Pillow Version:', PIL.__version__)\n",
    "from numpy import asarray\n",
    "\n",
    "import matplotlib.pyplot as plt"
   ]
  },
  {
   "cell_type": "markdown",
   "metadata": {},
   "source": [
    "## initialization"
   ]
  },
  {
   "cell_type": "code",
   "execution_count": 2,
   "metadata": {},
   "outputs": [],
   "source": [
    "# variables\n",
    "features = 8\n",
    "hidden_layer_nodes = (20)\n",
    "categories = 1\n",
    "x = tf.placeholder(tf.float32, [None, features])\n",
    "\n",
    "w1 = tf.Variable(tf.truncated_normal([features,hidden_layer_nodes], stddev=0.1))\n",
    "b1 = tf.Variable(tf.constant(0.1, shape=[hidden_layer_nodes]))\n",
    "z1 = tf.nn.relu(tf.add(tf.matmul(x,w1),b1))\n",
    "\n",
    "w2 = tf.Variable(tf.truncated_normal([hidden_layer_nodes,categories], stddev=0.1))\n",
    "b2 = tf.Variable(0.)\n",
    "# b2 = tf.Variable(tf.constant(0.1, shape=[categories]))\n",
    "z2 = tf.matmul(z1,w2) + b2\n",
    "\n",
    "y = tf.placeholder(tf.float32, [None, categories])\n",
    "\n",
    "# functions\n",
    "# pred = 1 / (1.0 + tf.exp(-z2))\n",
    "# loss = tf.reduce_mean(-(y * tf.log(pred) + (1 - y) * tf.log( 1 - pred)))\n",
    "\n",
    "# pred = tf.nn.softmax(z2) # softMax function\n",
    "pred = z2\n",
    "# loss = tf.reduce_mean(tf.pow(pred - y, 2) + 0.1*tf.reduce_sum(tf.abs(w2))) #lasso\n",
    "# loss = tf.reduce_mean(-tf.reduce_sum(y * tf.log(pred), reduction_indices=[1]))\n",
    "# loss = tf.nn.sigmoid_cross_entropy_with_logits(labels=y,logits=pred)\n",
    "loss = tf.reduce_mean(tf.pow(pred-y, 2))\n",
    "\n",
    "# loss = -tf.reduce_mean(y*tf.log(pred)) # Average cross entropy loss\n",
    "alfa = 0.000001\n",
    "# update = tf.train.GradientDescentOptimizer(alfa).minimize(loss)\n",
    "\n",
    "# cross_entropy = tf.reduce_mean(-tf.reduce_sum(y * tf.log(pred), reduction_indices=[1]))\n",
    "update = tf.train.GradientDescentOptimizer(alfa).minimize(loss)\n",
    "\n"
   ]
  },
  {
   "cell_type": "markdown",
   "metadata": {},
   "source": [
    "## data function\n"
   ]
  },
  {
   "cell_type": "code",
   "execution_count": 3,
   "metadata": {},
   "outputs": [],
   "source": [
    "def YtoArr(y):\n",
    "    arr = []\n",
    "    for i in y:\n",
    "        tmp = []\n",
    "        for j in range(255):# 25\n",
    "            if (int(i) == j) : # i/10\n",
    "                tmp.append(1)\n",
    "            else :\n",
    "                tmp.append(0)\n",
    "        arr.append(tmp)\n",
    "    return np.array(arr)\n",
    "\n",
    "def get_XY_from_image(photo_name:str,color:int,jumps:int=100,show:bool=False):\n",
    "    data = asarray(Image.open(photo_name))\n",
    "    color_arr = data[:,:,color]\n",
    "    image_color_arr = Image.fromarray(color_arr)\n",
    "    if show: image_color_arr.show()\n",
    "    data_x = []\n",
    "    data_y = []\n",
    "    print(f\"pic size: {len(color_arr)}x{len(color_arr[0])} name: {photo_name}\")\n",
    "    for i in range(1,len(color_arr)-1,jumps):\n",
    "        for j in range(1,len(color_arr[0])-1):\n",
    "            temp_y = [color_arr[i][j]]\n",
    "            temp_x = [color_arr[i-1][j-1],color_arr[i-1][j],color_arr[i][j-1],color_arr[i+1][j],color_arr[i][j+1],color_arr[i+1][j+1],color_arr[i-1][j+1],color_arr[i+1][j-1]]\n",
    "            data_y.append(temp_y)\n",
    "            data_x.append(temp_x)\n",
    "    return (data_x,data_y)\n",
    "\n",
    "def load_pic_data(pics_array,color:int,jumps:int=100,show:bool=False):\n",
    "    data_x , data_y = get_XY_from_image(pics_array[0],color,jumps,show)\n",
    "    for i in pics_array[1:]:\n",
    "        data_tmp_x , data_tmp_y = get_XY_from_image(i,color,jumps,show)\n",
    "        data_x = np.append(data_x,data_tmp_x,axis=0)\n",
    "        data_y = np.append(data_y,data_tmp_y,axis=0)\n",
    "    data_x = np.array(data_x)\n",
    "    data_y = np.array(data_y)\n",
    "    return data_x,data_y"
   ]
  },
  {
   "cell_type": "markdown",
   "metadata": {},
   "source": [
    "## data"
   ]
  },
  {
   "cell_type": "code",
   "execution_count": 4,
   "metadata": {},
   "outputs": [
    {
     "name": "stdout",
     "output_type": "stream",
     "text": [
      "pic size: 681x1024 name: data/cat_test.jpg\n",
      "pic size: 480x720 name: data/balloon.jpg\n",
      "pic size: 576x1024 name: data/cat.jpg\n",
      "pic size: 664x1080 name: data/city.jpg\n",
      "pic size: 1282x2278 name: data/city_night.jpg\n",
      "pic size: 539x959 name: data/city_color.jpg\n",
      "pic size: 1080x1920 name: data/sky.jpg\n",
      "pic size: 600x800 name: data/flower.jpg\n",
      "pic size: 464x696 name: data/telescope.jpg\n",
      "pic size: 708x1280 name: data/moon.jpg\n",
      "pic size: 588x830 name: data/park.jpg\n",
      "pic size: 319x600 name: data/cloud.jpg\n"
     ]
    }
   ],
   "source": [
    "data_x , data_y = load_pic_data(\n",
    "    [\"data/cat_test.jpg\", \"data/balloon.jpg\",\"data/cat.jpg\",\"data/city.jpg\",\n",
    "    \"data/city_night.jpg\",\"data/city_color.jpg\",\"data/sky.jpg\",\n",
    "    \"data/flower.jpg\",\"data/telescope.jpg\",\"data/moon.jpg\"],\n",
    "    color=0,jumps=100)\n",
    "data_t_x , data_t_y = load_pic_data([\"data/park.jpg\",\"data/cloud.jpg\"],color=1,jumps=100)\n",
    "# print(data_t_y)\n",
    "# print(YtoArr(data_t_y))\n",
    "# data_y = YtoArr(data_y)\n",
    "# data_t_y = YtoArr(data_t_y)\n"
   ]
  },
  {
   "cell_type": "markdown",
   "metadata": {},
   "source": [
    "## sim"
   ]
  },
  {
   "cell_type": "code",
   "execution_count": 5,
   "metadata": {},
   "outputs": [
    {
     "name": "stdout",
     "output_type": "stream",
     "text": [
      "i = 50, loss = 73.9940185546875,\n",
      "i = 100, loss = 73.6644058227539,\n",
      "i = 150, loss = 73.33855438232422,\n",
      "i = 200, loss = 73.01571655273438,\n",
      "i = 250, loss = 72.6958999633789,\n",
      "i = 300, loss = 72.3780746459961,\n",
      "i = 350, loss = 72.06175994873047,\n",
      "i = 400, loss = 71.73587799072266,\n",
      "i = 450, loss = 71.39429473876953,\n",
      "i = 500, loss = 71.06080627441406,\n",
      "i = 550, loss = 70.73615264892578,\n",
      "i = 600, loss = 70.41788482666016,\n",
      "i = 650, loss = 70.1057357788086,\n",
      "i = 700, loss = 69.79851531982422,\n",
      "i = 750, loss = 69.49545288085938,\n",
      "i = 800, loss = 69.19596099853516,\n",
      "i = 850, loss = 68.90033721923828,\n",
      "i = 900, loss = 68.60810852050781,\n",
      "i = 950, loss = 68.31956481933594,\n",
      "i = 1000, loss = 68.03392028808594,\n",
      "i = 1050, loss = 67.75079345703125,\n",
      "i = 1100, loss = 67.4702377319336,\n",
      "i = 1150, loss = 67.19269561767578,\n",
      "i = 1200, loss = 66.91743469238281,\n",
      "i = 1250, loss = 66.64437103271484,\n",
      "i = 1300, loss = 66.37349700927734,\n",
      "i = 1350, loss = 66.10479736328125,\n",
      "i = 1400, loss = 65.83805084228516,\n",
      "i = 1450, loss = 65.57322692871094,\n",
      "i = 1500, loss = 65.31005859375,\n",
      "i = 1550, loss = 65.04878234863281,\n",
      "i = 1600, loss = 64.7890625,\n",
      "i = 1650, loss = 64.53092193603516,\n",
      "i = 1700, loss = 64.27440643310547,\n",
      "i = 1750, loss = 64.01958465576172,\n",
      "i = 1800, loss = 63.7662467956543,\n",
      "i = 1850, loss = 63.514251708984375,\n",
      "i = 1900, loss = 63.263710021972656,\n",
      "i = 1950, loss = 63.01460647583008,\n",
      "i = 2000, loss = 62.76682662963867,\n",
      "i = 2050, loss = 62.52019119262695,\n",
      "i = 2100, loss = 62.27472686767578,\n",
      "i = 2150, loss = 62.030487060546875,\n",
      "i = 2200, loss = 61.787330627441406,\n",
      "i = 2250, loss = 61.545291900634766,\n",
      "i = 2300, loss = 61.30424118041992,\n",
      "i = 2350, loss = 61.064048767089844,\n",
      "i = 2400, loss = 60.82485580444336,\n",
      "i = 2450, loss = 60.58663558959961,\n",
      "i = 2500, loss = 60.349365234375,\n",
      "i = 2550, loss = 60.1130256652832,\n",
      "i = 2600, loss = 59.877586364746094,\n",
      "i = 2650, loss = 59.642974853515625,\n",
      "i = 2700, loss = 59.409244537353516,\n",
      "i = 2750, loss = 59.17643737792969,\n",
      "i = 2800, loss = 58.944576263427734,\n",
      "i = 2850, loss = 58.713623046875,\n",
      "i = 2900, loss = 58.483558654785156,\n",
      "i = 2950, loss = 58.254310607910156,\n",
      "i = 3000, loss = 58.025978088378906,\n",
      "i = 3050, loss = 57.798587799072266,\n",
      "i = 3100, loss = 57.57197570800781,\n",
      "i = 3150, loss = 57.34619903564453,\n",
      "i = 3200, loss = 57.121280670166016,\n",
      "i = 3250, loss = 56.89720916748047,\n",
      "i = 3300, loss = 56.67393112182617,\n",
      "i = 3350, loss = 56.45146942138672,\n",
      "i = 3400, loss = 56.2297248840332,\n",
      "i = 3450, loss = 56.00873947143555,\n",
      "i = 3500, loss = 55.78852844238281,\n",
      "i = 3550, loss = 55.56916809082031,\n",
      "i = 3600, loss = 55.35057067871094,\n",
      "i = 3650, loss = 55.13279724121094,\n",
      "i = 3700, loss = 54.915733337402344,\n",
      "i = 3750, loss = 54.69941711425781,\n",
      "i = 3800, loss = 54.48381042480469,\n",
      "i = 3850, loss = 54.268898010253906,\n",
      "i = 3900, loss = 54.05464553833008,\n",
      "i = 3950, loss = 53.84115219116211,\n",
      "i = 4000, loss = 53.62843322753906,\n",
      "i = 4050, loss = 53.41642761230469,\n",
      "i = 4100, loss = 53.205162048339844,\n",
      "i = 4150, loss = 52.99458312988281,\n",
      "i = 4200, loss = 52.78476333618164,\n",
      "i = 4250, loss = 52.57569885253906,\n",
      "i = 4300, loss = 52.36737823486328,\n",
      "i = 4350, loss = 52.15976333618164,\n",
      "i = 4400, loss = 51.95284652709961,\n",
      "i = 4450, loss = 51.746726989746094,\n",
      "i = 4500, loss = 51.541316986083984,\n",
      "i = 4550, loss = 51.33659744262695,\n",
      "i = 4600, loss = 51.132591247558594,\n",
      "i = 4650, loss = 50.929264068603516,\n",
      "i = 4700, loss = 50.7266731262207,\n",
      "i = 4750, loss = 50.52484130859375,\n",
      "i = 4800, loss = 50.323753356933594,\n",
      "i = 4850, loss = 50.12340545654297,\n",
      "i = 4900, loss = 49.92375946044922,\n",
      "i = 4950, loss = 49.72481155395508,\n",
      "i = 5000, loss = 49.52660369873047,\n",
      "i = 5050, loss = 49.32916259765625,\n",
      "i = 5100, loss = 49.13248062133789,\n",
      "i = 5150, loss = 48.936561584472656,\n",
      "i = 5200, loss = 48.74140930175781,\n",
      "i = 5250, loss = 48.546974182128906,\n",
      "i = 5300, loss = 48.35331344604492,\n",
      "i = 5350, loss = 48.16042709350586,\n",
      "i = 5400, loss = 47.96830749511719,\n",
      "i = 5450, loss = 47.77699661254883,\n",
      "i = 5500, loss = 47.58646774291992,\n",
      "i = 5550, loss = 47.39670181274414,\n",
      "i = 5600, loss = 47.20768737792969,\n",
      "i = 5650, loss = 47.01944351196289,\n",
      "i = 5700, loss = 46.8320426940918,\n",
      "i = 5750, loss = 46.64545822143555,\n",
      "i = 5800, loss = 46.45967483520508,\n",
      "i = 5850, loss = 46.274776458740234,\n",
      "i = 5900, loss = 46.09065628051758,\n",
      "i = 5950, loss = 45.90738296508789,\n",
      "i = 6000, loss = 45.72494888305664,\n",
      "i = 6050, loss = 45.54331588745117,\n",
      "i = 6100, loss = 45.362552642822266,\n",
      "i = 6150, loss = 45.182594299316406,\n",
      "i = 6200, loss = 45.003517150878906,\n",
      "i = 6250, loss = 44.82527160644531,\n",
      "i = 6300, loss = 44.647857666015625,\n",
      "i = 6350, loss = 44.47126388549805,\n",
      "i = 6400, loss = 44.295528411865234,\n",
      "i = 6450, loss = 44.12058639526367,\n",
      "i = 6500, loss = 43.94649124145508,\n",
      "i = 6550, loss = 43.77323913574219,\n",
      "i = 6600, loss = 43.60086441040039,\n",
      "i = 6650, loss = 43.42936706542969,\n",
      "i = 6700, loss = 43.258758544921875,\n",
      "i = 6750, loss = 43.08902359008789,\n",
      "i = 6800, loss = 42.920143127441406,\n",
      "i = 6850, loss = 42.752132415771484,\n",
      "i = 6900, loss = 42.58503341674805,\n",
      "i = 6950, loss = 42.4188232421875,\n",
      "i = 7000, loss = 42.253604888916016,\n",
      "i = 7050, loss = 42.08928298950195,\n",
      "i = 7100, loss = 41.92586898803711,\n",
      "i = 7150, loss = 41.763362884521484,\n",
      "i = 7200, loss = 41.60176467895508,\n",
      "i = 7250, loss = 41.44108200073242,\n",
      "i = 7300, loss = 41.281288146972656,\n",
      "i = 7350, loss = 41.122406005859375,\n",
      "i = 7400, loss = 40.96444320678711,\n",
      "i = 7450, loss = 40.80739212036133,\n",
      "i = 7500, loss = 40.65126037597656,\n",
      "i = 7550, loss = 40.496070861816406,\n",
      "i = 7600, loss = 40.34183883666992,\n",
      "i = 7650, loss = 40.18852996826172,\n",
      "i = 7700, loss = 40.036128997802734,\n",
      "i = 7750, loss = 39.88469314575195,\n",
      "i = 7800, loss = 39.734222412109375,\n",
      "i = 7850, loss = 39.58467483520508,\n",
      "i = 7900, loss = 39.43601608276367,\n",
      "i = 7950, loss = 39.28830337524414,\n",
      "i = 8000, loss = 39.14117431640625,\n",
      "i = 8050, loss = 38.994972229003906,\n",
      "i = 8100, loss = 38.84986114501953,\n",
      "i = 8150, loss = 38.70573043823242,\n",
      "i = 8200, loss = 38.56256866455078,\n",
      "i = 8250, loss = 38.42038345336914,\n",
      "i = 8300, loss = 38.2791862487793,\n",
      "i = 8350, loss = 38.13897705078125,\n",
      "i = 8400, loss = 37.99982452392578,\n",
      "i = 8450, loss = 37.86176681518555,\n",
      "i = 8500, loss = 37.72467041015625,\n",
      "i = 8550, loss = 37.588565826416016,\n",
      "i = 8600, loss = 37.453433990478516,\n",
      "i = 8650, loss = 37.319271087646484,\n",
      "i = 8700, loss = 37.18606948852539,\n",
      "i = 8750, loss = 37.0538444519043,\n",
      "i = 8800, loss = 36.92256164550781,\n",
      "i = 8850, loss = 36.792301177978516,\n",
      "i = 8900, loss = 36.66305923461914,\n",
      "i = 8950, loss = 36.53491973876953,\n",
      "i = 9000, loss = 36.407752990722656,\n",
      "i = 9050, loss = 36.281551361083984,\n",
      "i = 9100, loss = 36.156314849853516,\n",
      "i = 9150, loss = 36.03206253051758,\n",
      "i = 9200, loss = 35.908729553222656,\n",
      "i = 9250, loss = 35.786354064941406,\n",
      "i = 9300, loss = 35.664920806884766,\n",
      "i = 9350, loss = 35.54445266723633,\n",
      "i = 9400, loss = 35.42493438720703,\n",
      "i = 9450, loss = 35.306358337402344,\n",
      "i = 9500, loss = 35.18874740600586,\n",
      "i = 9550, loss = 35.07209777832031,\n",
      "i = 9600, loss = 34.95641326904297,\n",
      "i = 9650, loss = 34.841365814208984,\n",
      "i = 9700, loss = 34.72723388671875,\n",
      "i = 9750, loss = 34.61406326293945,\n",
      "i = 9800, loss = 34.501861572265625,\n",
      "i = 9850, loss = 34.39061737060547,\n",
      "i = 9900, loss = 34.280311584472656,\n",
      "i = 9950, loss = 34.17097473144531,\n"
     ]
    }
   ],
   "source": [
    "sess = tf.Session()\n",
    "sess.run(tf.global_variables_initializer())\n",
    "\n",
    "show = 50\n",
    "loss_in_time = []\n",
    "w_arr = []\n",
    "w2_arr = []\n",
    "test_over_time = []\n",
    "accuracy_over_time = []\n",
    "\n",
    "correct_prediction = tf.equal(tf.argmax(pred,1), tf.argmax(y,1))\n",
    "accuracy = tf.reduce_mean(tf.cast(correct_prediction, tf.float32))\n",
    "\n",
    "for i in range(0,10000):\n",
    "       sess.run(update, feed_dict = {x:data_x, y:data_y})\n",
    "       if(i%show==0 and i>21):\n",
    "              tmp = sess.run(loss,feed_dict={x:data_x,y:data_y})\n",
    "              loss_in_time.append(tmp)\n",
    "              w_arr.append(sess.run(w1))\n",
    "              w2_arr.append(sess.run(w2))\n",
    "              if(i%(show*1)==0):\n",
    "                     print(f\"i = {i}, loss = {tmp},\")\n",
    "              accuracy_over_time.append(sess.run(accuracy, feed_dict={x:data_t_x,y:data_t_y}))\n",
    "              test_over_time.append(sess.run(loss,feed_dict={x:data_t_x,y:data_t_y}))\n",
    "\n",
    "\n"
   ]
  },
  {
   "cell_type": "code",
   "execution_count": 6,
   "metadata": {},
   "outputs": [
    {
     "data": {
      "image/png": "[encoded data removed]",
      "text/plain": [
       "<Figure size 432x288 with 1 Axes>"
      ]
     },
     "metadata": {
      "needs_background": "light"
     },
     "output_type": "display_data"
    },
    {
     "data": {
      "image/png": "[encoded data removed]",
      "text/plain": [
       "<Figure size 432x288 with 1 Axes>"
      ]
     },
     "metadata": {
      "needs_background": "light"
     },
     "output_type": "display_data"
    },
    {
     "data": {
      "image/png": "[encoded data removed]",
      "text/plain": [
       "<Figure size 432x288 with 1 Axes>"
      ]
     },
     "metadata": {
      "needs_background": "light"
     },
     "output_type": "display_data"
    },
    {
     "data": {
      "image/png": "[encoded data removed]",
      "text/plain": [
       "<Figure size 432x288 with 1 Axes>"
      ]
     },
     "metadata": {
      "needs_background": "light"
     },
     "output_type": "display_data"
    }
   ],
   "source": [
    "d = np.array(np.array(w_arr).transpose()[0]).transpose()\n",
    "plt.plot(d)\n",
    "plt.ylabel('w1 over time')\n",
    "plt.show()\n",
    "\n",
    "d = np.array(np.array(w2_arr).transpose()[0]).transpose()\n",
    "plt.plot(d)\n",
    "plt.ylabel('w2 over time')\n",
    "plt.show()\n",
    "\n",
    "plt.plot(loss_in_time,label =\"loss\")\n",
    "plt.plot(test_over_time , label =\"test\")\n",
    "plt.legend()\n",
    "plt.ylabel('loss over time')\n",
    "plt.show()\n",
    "\n",
    "plt.plot(accuracy_over_time,label =\"accuracy over time\")\n",
    "plt.legend()\n",
    "plt.ylabel('accuracy over time')\n",
    "plt.show()"
   ]
  },
  {
   "cell_type": "code",
   "execution_count": 7,
   "metadata": {},
   "outputs": [
    {
     "name": "stdout",
     "output_type": "stream",
     "text": [
      "pic size: 588x830 name: data/park.jpg\n",
      "pic size: 588x830 name: data/park.jpg\n",
      "pic size: 588x830 name: data/park.jpg\n"
     ]
    }
   ],
   "source": [
    "picR,y_dataR = load_pic_data([\"data/park.jpg\"],color=0,jumps=1)\n",
    "picG,y_dataG = load_pic_data([\"data/park.jpg\"],color=1,jumps=1)\n",
    "picB,y_dataB = load_pic_data([\"data/park.jpg\"],color=2,jumps=1)\n",
    "pR = sess.run(tf.nn.relu(z2),feed_dict={x:picR})\n",
    "pG = sess.run(tf.nn.relu(z2),feed_dict={x:picG})\n",
    "pB = sess.run(tf.nn.relu(z2),feed_dict={x:picB})\n",
    "# print(p)\n",
    "def YtoPic(arr):\n",
    "    picture = []\n",
    "    for line in arr:\n",
    "        max_pos = 0\n",
    "        tmp_max = 0\n",
    "        for i,num in enumerate(line):\n",
    "            if(num>tmp_max):\n",
    "                max_pos = i\n",
    "                tmp_max = num\n",
    "        color_tmp = max_pos # *10\n",
    "        picture.append(color_tmp)\n",
    "    return picture\n",
    "# pictureR = YtoPic(pR)\n",
    "pictureR = pR\n",
    "# pictureG = YtoPic(pG)\n",
    "pictureG = pG\n",
    "# pictureB = YtoPic(pB)\n",
    "pictureB = pB\n",
    "size_x = 588 \n",
    "size_y = 830\n",
    "# data_R = np.reshape(pictureR,(size_x-2,size_y-2))\n",
    "# data_G = np.reshape(pictureG,(size_x-2,size_y-2))\n",
    "# data_B = np.reshape(pictureB,(size_x-2,size_y-2))\n",
    "\n",
    "arr = np.zeros((size_x-2,size_y-2,3))\n",
    "arr[:,:,0] = np.reshape(pictureR,(size_x-2,size_y-2))\n",
    "arr[:,:,1] = np.reshape(pictureG,(size_x-2,size_y-2))\n",
    "arr[:,:,2] = np.reshape(pictureB,(size_x-2,size_y-2))\n",
    "\n",
    "arr2 = np.zeros((size_x-2,size_y-2,3))\n",
    "arr2[:,:,0] = np.reshape(y_dataR,(size_x-2,size_y-2))\n",
    "arr2[:,:,1] = np.reshape(y_dataG,(size_x-2,size_y-2))\n",
    "arr2[:,:,2] = np.reshape(y_dataB,(size_x-2,size_y-2))\n",
    "arr = np.concatenate((arr2.astype('uint8'),arr.astype('uint8')), axis=1)\n",
    "\n",
    "img = Image.fromarray(arr.astype('uint8'),mode=\"RGB\")\n",
    "img.show(title=\"calculated\")\n",
    "\n",
    "# y_data = YtoArr(y_data)\n",
    "# y_data = YtoPic(y_data)\n",
    "# y_data = np.reshape(y_data,(size_x-2,size_y-2))\n",
    "\n",
    "# data_RGB = np.concatenate((y_data,data_R), axis=1)\n",
    "# img = Image.fromarray(data_RGB)\n",
    "# img.show(title=\"calculated\")\n",
    "\n",
    "\n"
   ]
  }
 ],
 "metadata": {
  "interpreter": {
   "hash": "aea76f1be30e5e3b918b1f8b7dd217025488842ffbeb7a324758bac1eab1c225"
  },
  "kernelspec": {
   "display_name": "Python 3.9.8 64-bit",
   "language": "python",
   "name": "python3"
  },
  "language_info": {
   "codemirror_mode": {
    "name": "ipython",
    "version": 3
   },
   "file_extension": ".py",
   "mimetype": "text/x-python",
   "name": "python",
   "nbconvert_exporter": "python",
   "pygments_lexer": "ipython3",
   "version": "3.9.8"
  },
  "orig_nbformat": 4
 },
 "nbformat": 4,
 "nbformat_minor": 2
}
