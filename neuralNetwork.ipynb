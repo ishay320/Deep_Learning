{
 "cells": [
  {
   "cell_type": "code",
   "execution_count": 1,
   "metadata": {},
   "outputs": [
    {
     "name": "stdout",
     "output_type": "stream",
     "text": [
      "WARNING:tensorflow:From C:\\Users\\Itamar Almog\\AppData\\Local\\Programs\\Python\\Python39\\lib\\site-packages\\tensorflow\\python\\compat\\v2_compat.py:111: disable_resource_variables (from tensorflow.python.ops.variable_scope) is deprecated and will be removed in a future version.\n",
      "Instructions for updating:\n",
      "non-resource variables are not supported in the long term\n"
     ]
    }
   ],
   "source": [
    "import tensorflow._api.v2.compat.v1 as tf\n",
    "import numpy as np\n",
    "tf.disable_v2_behavior()\n",
    "from PIL import Image \n",
    "# print('Pillow Version:', PIL.__version__)\n",
    "from numpy import asarray\n",
    "\n",
    "import matplotlib.pyplot as plt"
   ]
  },
  {
   "cell_type": "code",
   "execution_count": 2,
   "metadata": {},
   "outputs": [],
   "source": [
    "features = 8\n",
    "hidden_layer_nodes = 3\n",
    "x = tf.placeholder(tf.float32, [None, features])\n",
    "y_ = tf.placeholder(tf.float32, [None, 25])\n",
    "W1 = tf.Variable(tf.truncated_normal([features,hidden_layer_nodes], stddev=0.1))\n",
    "b1 = tf.Variable(tf.constant(0.1, shape=[hidden_layer_nodes]))\n",
    "z1 = tf.add(tf.matmul(x,W1),b1)\n",
    "a1 = tf.nn.relu(z1)\n",
    "W2 = tf.Variable(tf.truncated_normal([hidden_layer_nodes,1], stddev=0.1))\n",
    "b2 = tf.Variable(0.)\n",
    "z2 = tf.matmul(a1,W2) + b2\n",
    "pred = 1 / (1.0 + tf.exp(-z2))\n",
    "loss = tf.reduce_mean(-(y_ * tf.log(pred) + (1 - y_) * tf.log( 1 - pred)))\n",
    "alfa = 0.000001\n",
    "update = tf.train.GradientDescentOptimizer(alfa).minimize(loss)\n"
   ]
  },
  {
   "cell_type": "markdown",
   "metadata": {},
   "source": [
    "## data function\n"
   ]
  },
  {
   "cell_type": "code",
   "execution_count": 3,
   "metadata": {},
   "outputs": [],
   "source": [
    "def YtoArr(y):\n",
    "    arr = []\n",
    "    for i in y:\n",
    "        tmp = []\n",
    "        for j in range(25):\n",
    "            if (int(i/10) == j) :\n",
    "                tmp.append(1)\n",
    "            else :\n",
    "                tmp.append(0)\n",
    "        arr.append(tmp)\n",
    "    return arr\n",
    "\n",
    "def get_XY_from_image(photo_name:str,color:int,jumps:int=100,show:bool=False):\n",
    "    data = asarray(Image.open(photo_name))\n",
    "    color_arr = data[:,:,color]\n",
    "    image_color_arr = Image.fromarray(color_arr)\n",
    "    if show: image_color_arr.show()\n",
    "    data_x = []\n",
    "    data_y = []\n",
    "    print(f\"pic size: {len(color_arr)}x{len(color_arr[0])} name: {photo_name}\")\n",
    "    for i in range(1,len(color_arr)-1,jumps):\n",
    "        for j in range(1,len(color_arr[0])-1):\n",
    "            temp_y = [color_arr[i][j]]\n",
    "            temp_x = [color_arr[i-1][j-1],color_arr[i-1][j],color_arr[i][j-1],color_arr[i+1][j],color_arr[i][j+1],color_arr[i+1][j+1],color_arr[i-1][j+1],color_arr[i+1][j-1]]\n",
    "            data_y.append(temp_y)\n",
    "            data_x.append(temp_x)\n",
    "    return (data_x,data_y)\n",
    "\n",
    "def load_pic_data(pics_array,color:int,jumps:int=100,show:bool=False):\n",
    "    data_x , data_y = get_XY_from_image(pics_array[0],color,jumps,show)\n",
    "    for i in pics_array[1:]:\n",
    "        data_tmp_x , data_tmp_y = get_XY_from_image(i,color,jumps,show)\n",
    "        data_x = np.append(data_x,data_tmp_x,axis=0)\n",
    "        data_y = np.append(data_y,data_tmp_y,axis=0)\n",
    "    data_x = np.array(data_x)\n",
    "    data_y = np.array(data_y)\n",
    "    return data_x,data_y"
   ]
  },
  {
   "cell_type": "markdown",
   "metadata": {},
   "source": [
    "## data"
   ]
  },
  {
   "cell_type": "code",
   "execution_count": 4,
   "metadata": {},
   "outputs": [
    {
     "name": "stdout",
     "output_type": "stream",
     "text": [
      "pic size: 681x1024 name: data/cat_test.jpg\n",
      "pic size: 480x720 name: data/balloon.jpg\n",
      "pic size: 576x1024 name: data/cat.jpg\n",
      "pic size: 664x1080 name: data/city.jpg\n",
      "pic size: 1282x2278 name: data/city_night.jpg\n",
      "pic size: 539x959 name: data/city_color.jpg\n",
      "pic size: 600x800 name: data/flower.jpg\n",
      "pic size: 588x830 name: data/park.jpg\n"
     ]
    }
   ],
   "source": [
    "data_x , data_y = load_pic_data(\n",
    "    [\"data/cat_test.jpg\",\"data/balloon.jpg\",\"data/cat.jpg\",\"data/city.jpg\",\"data/city_night.jpg\",\"data/city_color.jpg\",\n",
    "    \"data/flower.jpg\"],\n",
    "    color=0,jumps=100)\n",
    "data_t_x , data_t_y = load_pic_data([\"data/park.jpg\"],color=1,jumps=100)\n",
    "# print(data_t_y)\n",
    "# print(YtoArr(data_t_y))\n",
    "data_y = YtoArr(data_y)\n",
    "data_t_y = YtoArr(data_t_y)\n",
    "\n",
    "\n",
    "# data_x = np.array([[2,32], [25,1.2], [5,25.2], [23,2], [56,8.5], [60,60], [3,3], [46,53], [3.5,2]])\n",
    "# data_y = np.array([[1], [1], [1], [1], [1], [0], [0], [0], [0]])"
   ]
  },
  {
   "cell_type": "markdown",
   "metadata": {},
   "source": []
  },
  {
   "cell_type": "code",
   "execution_count": 5,
   "metadata": {},
   "outputs": [
    {
     "name": "stdout",
     "output_type": "stream",
     "text": [
      "i = 0, loss = 0.387279212474823,\n",
      "i = 10, loss = 0.3871800899505615,\n",
      "i = 20, loss = 0.3870811462402344,\n",
      "i = 30, loss = 0.3869825005531311,\n",
      "i = 40, loss = 0.3868839740753174,\n",
      "i = 50, loss = 0.38678550720214844,\n",
      "i = 60, loss = 0.3866872787475586,\n",
      "i = 70, loss = 0.38658925890922546,\n",
      "i = 80, loss = 0.3864913284778595,\n",
      "i = 90, loss = 0.38639363646507263,\n"
     ]
    }
   ],
   "source": [
    "sess = tf.Session()\n",
    "sess.run(tf.global_variables_initializer())\n",
    "show = 10\n",
    "loss_in_time = []\n",
    "w_arr = []\n",
    "test_over_time = []\n",
    "for i in range(0,100):\n",
    "       sess.run(update, feed_dict = {x:data_x, y_:data_y})\n",
    "       if(i%show==0):\n",
    "              tmp = sess.run(loss,feed_dict={x:data_x,y_:data_y})\n",
    "              loss_in_time.append(tmp)\n",
    "              w_arr.append(sess.run(W1))\n",
    "              if(i%(show*1)==0):\n",
    "                     print(f\"i = {i}, loss = {tmp},\")\n",
    "              \n",
    "              test_over_time.append(sess.run(loss,feed_dict={x:data_t_x,y_:data_t_y}))\n"
   ]
  },
  {
   "cell_type": "code",
   "execution_count": 6,
   "metadata": {},
   "outputs": [
    {
     "data": {
      "image/png": "[encoded data removed]",
      "text/plain": [
       "<Figure size 432x288 with 1 Axes>"
      ]
     },
     "metadata": {
      "needs_background": "light"
     },
     "output_type": "display_data"
    },
    {
     "data": {
      "image/png": "[encoded data removed]",
      "text/plain": [
       "<Figure size 432x288 with 1 Axes>"
      ]
     },
     "metadata": {
      "needs_background": "light"
     },
     "output_type": "display_data"
    }
   ],
   "source": [
    "d = np.array(np.array(w_arr).transpose()[0]).transpose()\n",
    "plt.plot(d)\n",
    "plt.ylabel('w over time')\n",
    "plt.show()\n",
    "\n",
    "plt.plot(loss_in_time,label =\"loss\")\n",
    "plt.plot(test_over_time , label =\"test\")\n",
    "plt.legend()\n",
    "plt.ylabel('loss over time')\n",
    "plt.show()"
   ]
  },
  {
   "cell_type": "code",
   "execution_count": 30,
   "metadata": {},
   "outputs": [
    {
     "name": "stdout",
     "output_type": "stream",
     "text": [
      "[[0.30113214]]\n"
     ]
    }
   ],
   "source": [
    "#print(sess.run(pred,feed_dict={x:[234,23,45,56,89,24,78,96]}))\n",
    "# x = tf.placeholder(tf.float32, [None, features])\n",
    "# y_ = tf.placeholder(tf.float32, [None, 25])\n",
    "# W1 = tf.Variable(tf.truncated_normal([features,hidden_layer_nodes], stddev=0.1))\n",
    "# b1 = tf.Variable(tf.constant(0.1, shape=[hidden_layer_nodes]))\n",
    "# z1 = tf.add(tf.matmul(x,W1),b1)\n",
    "# a1 = tf.nn.relu(z1)\n",
    "# W2 = tf.Variable(tf.truncated_normal([hidden_layer_nodes,1], stddev=0.1))\n",
    "# b2 = tf.Variable(0.)\n",
    "# z2 = tf.matmul(a1,W2) + b2\n",
    "# pred = 1 / (1.0 + tf.exp(-z2))\n",
    "\n",
    "#print(np.array([234,23,45,56,89,24,78,96]).transpose())\n",
    "# print(sess.run(W1))\n",
    "# print(tf.add(tf.matmul(np.matrix([234,23,45,56,89,24,78,96]),sess.run(W1)),sess.run(b1)))\n",
    "zz1 = tf.add(tf.matmul(np.matrix([234,23,45,56,89,24,78,96]),sess.run(W1)),sess.run(b1))\n",
    "aa1 = tf.nn.relu(zz1)\n",
    "#zz2 = \n",
    "# print(a)\n",
    "print(sess.run(pred,feed_dict={x:[[234,23,45,56,89,24,78,96]]}))\n",
    "\n"
   ]
  }
 ],
 "metadata": {
  "interpreter": {
   "hash": "aea76f1be30e5e3b918b1f8b7dd217025488842ffbeb7a324758bac1eab1c225"
  },
  "kernelspec": {
   "display_name": "Python 3.9.8 64-bit",
   "language": "python",
   "name": "python3"
  },
  "language_info": {
   "codemirror_mode": {
    "name": "ipython",
    "version": 3
   },
   "file_extension": ".py",
   "mimetype": "text/x-python",
   "name": "python",
   "nbconvert_exporter": "python",
   "pygments_lexer": "ipython3",
   "version": "3.9.8"
  },
  "orig_nbformat": 4
 },
 "nbformat": 4,
 "nbformat_minor": 2
}
