{
 "cells": [
  {
   "cell_type": "markdown",
   "metadata": {},
   "source": [
    "## imports"
   ]
  },
  {
   "cell_type": "code",
   "execution_count": 104,
   "metadata": {},
   "outputs": [],
   "source": [
    "import tensorflow._api.v2.compat.v1 as tf\n",
    "import numpy as np\n",
    "tf.disable_v2_behavior()\n",
    "from PIL import Image \n",
    "# print('Pillow Version:', PIL.__version__)\n",
    "from numpy import asarray\n",
    "\n",
    "import matplotlib.pyplot as plt"
   ]
  },
  {
   "cell_type": "markdown",
   "metadata": {},
   "source": [
    "## initialization"
   ]
  },
  {
   "cell_type": "code",
   "execution_count": 105,
   "metadata": {},
   "outputs": [],
   "source": [
    "# variables\n",
    "features = 8\n",
    "hidden_layer_nodes = 20\n",
    "categories = 255\n",
    "x = tf.placeholder(tf.float32, [None, features])\n",
    "\n",
    "w1 = tf.Variable(tf.truncated_normal([features,hidden_layer_nodes], stddev=0.1))\n",
    "b1 = tf.Variable(tf.constant(0.1, shape=[hidden_layer_nodes]))\n",
    "z1 = tf.nn.relu_layer(x,w1,b1)\n",
    "# z1 = tf.nn.relu(tf.matmul(x,w1)+b1)\n",
    "\n",
    "w2 = tf.Variable(tf.truncated_normal([hidden_layer_nodes,categories], stddev=0.1))\n",
    "b2 = tf.Variable(tf.constant(0.1, shape=[categories]))\n",
    "z2 = tf.matmul(z1,w2) + b2\n",
    "\n",
    "y = tf.placeholder(tf.float32, [None, categories])\n",
    "\n",
    "# functions\n",
    "# pred = 1 / (1.0 + tf.exp(-z2))\n",
    "# loss = tf.reduce_mean(-(y * tf.log(pred) + (1 - y) * tf.log( 1 - pred)))\n",
    "\n",
    "pred = tf.nn.softmax(z2) # softMax function\n",
    "# loss = tf.reduce_mean(tf.pow(pred - y, 2) + 0.1*tf.reduce_sum(tf.abs(w2))) #lasso\n",
    "loss = tf.reduce_mean(-tf.reduce_sum(y * tf.log(pred), reduction_indices=[1]))\n",
    "# loss = -tf.reduce_mean(y*tf.log(pred)) # Average cross entropy loss\n",
    "alfa = 0.00001\n",
    "# update = tf.train.GradientDescentOptimizer(alfa).minimize(loss)\n",
    "\n",
    "# cross_entropy = tf.reduce_mean(-tf.reduce_sum(y * tf.log(pred), reduction_indices=[1]))\n",
    "update = tf.train.GradientDescentOptimizer(alfa).minimize(loss)\n",
    "\n"
   ]
  },
  {
   "cell_type": "markdown",
   "metadata": {},
   "source": [
    "## data function\n"
   ]
  },
  {
   "cell_type": "code",
   "execution_count": 106,
   "metadata": {},
   "outputs": [],
   "source": [
    "def YtoArr(y):\n",
    "    arr = []\n",
    "    for i in y:\n",
    "        tmp = []\n",
    "        for j in range(255):# 25\n",
    "            if (int(i) == j) : # i/10\n",
    "                tmp.append(1)\n",
    "            else :\n",
    "                tmp.append(0)\n",
    "        arr.append(tmp)\n",
    "    return np.array(arr)\n",
    "\n",
    "def get_XY_from_image(photo_name:str,color:int,jumps:int=100,show:bool=False):\n",
    "    data = asarray(Image.open(photo_name))\n",
    "    color_arr = data[:,:,color]\n",
    "    image_color_arr = Image.fromarray(color_arr)\n",
    "    if show: image_color_arr.show()\n",
    "    data_x = []\n",
    "    data_y = []\n",
    "    print(f\"pic size: {len(color_arr)}x{len(color_arr[0])} name: {photo_name}\")\n",
    "    for i in range(1,len(color_arr)-1,jumps):\n",
    "        for j in range(1,len(color_arr[0])-1):\n",
    "            temp_y = [color_arr[i][j]]\n",
    "            temp_x = [color_arr[i-1][j-1],color_arr[i-1][j],color_arr[i][j-1],color_arr[i+1][j],color_arr[i][j+1],color_arr[i+1][j+1],color_arr[i-1][j+1],color_arr[i+1][j-1]]\n",
    "            data_y.append(temp_y)\n",
    "            data_x.append(temp_x)\n",
    "    return (data_x,data_y)\n",
    "\n",
    "def load_pic_data(pics_array,color:int,jumps:int=100,show:bool=False):\n",
    "    data_x , data_y = get_XY_from_image(pics_array[0],color,jumps,show)\n",
    "    for i in pics_array[1:]:\n",
    "        data_tmp_x , data_tmp_y = get_XY_from_image(i,color,jumps,show)\n",
    "        data_x = np.append(data_x,data_tmp_x,axis=0)\n",
    "        data_y = np.append(data_y,data_tmp_y,axis=0)\n",
    "    data_x = np.array(data_x)\n",
    "    data_y = np.array(data_y)\n",
    "    return data_x,data_y"
   ]
  },
  {
   "cell_type": "markdown",
   "metadata": {},
   "source": [
    "## data"
   ]
  },
  {
   "cell_type": "code",
   "execution_count": 107,
   "metadata": {},
   "outputs": [
    {
     "name": "stdout",
     "output_type": "stream",
     "text": [
      "pic size: 681x1024 name: data/cat_test.jpg\n",
      "pic size: 480x720 name: data/balloon.jpg\n",
      "pic size: 576x1024 name: data/cat.jpg\n",
      "pic size: 664x1080 name: data/city.jpg\n",
      "pic size: 1282x2278 name: data/city_night.jpg\n",
      "pic size: 539x959 name: data/city_color.jpg\n",
      "pic size: 600x800 name: data/flower.jpg\n",
      "pic size: 588x830 name: data/park.jpg\n"
     ]
    }
   ],
   "source": [
    "data_x , data_y = load_pic_data(\n",
    "    [\"data/cat_test.jpg\", \"data/balloon.jpg\",\"data/cat.jpg\",\"data/city.jpg\",\n",
    "    \"data/city_night.jpg\",\"data/city_color.jpg\",\n",
    "    \"data/flower.jpg\"],\n",
    "    color=0,jumps=100)\n",
    "data_t_x , data_t_y = load_pic_data([\"data/park.jpg\"],color=1,jumps=100)\n",
    "# print(data_t_y)\n",
    "# print(YtoArr(data_t_y))\n",
    "data_y = YtoArr(data_y)\n",
    "data_t_y = YtoArr(data_t_y)\n"
   ]
  },
  {
   "cell_type": "markdown",
   "metadata": {},
   "source": [
    "## sim"
   ]
  },
  {
   "cell_type": "code",
   "execution_count": 108,
   "metadata": {},
   "outputs": [
    {
     "name": "stdout",
     "output_type": "stream",
     "text": [
      "i = 30, loss = 14.056649208068848,\n",
      "i = 40, loss = 13.717307090759277,\n",
      "i = 50, loss = 13.398831367492676,\n",
      "i = 60, loss = 13.098544120788574,\n",
      "i = 70, loss = 12.814695358276367,\n",
      "i = 80, loss = 12.546021461486816,\n",
      "i = 90, loss = 12.291389465332031,\n",
      "i = 100, loss = 12.049822807312012,\n",
      "i = 110, loss = 11.820378303527832,\n",
      "i = 120, loss = 11.602153778076172,\n",
      "i = 130, loss = 11.394316673278809,\n",
      "i = 140, loss = 11.196114540100098,\n",
      "i = 150, loss = 11.00678825378418,\n",
      "i = 160, loss = 10.825570106506348,\n",
      "i = 170, loss = 10.651749610900879,\n",
      "i = 180, loss = 10.48476791381836,\n",
      "i = 190, loss = 10.323995590209961,\n",
      "i = 200, loss = 10.168890953063965,\n",
      "i = 210, loss = 10.01906967163086,\n",
      "i = 220, loss = 9.874133110046387,\n",
      "i = 230, loss = 9.733675003051758,\n",
      "i = 240, loss = 9.597468376159668,\n",
      "i = 250, loss = 9.46528148651123,\n"
     ]
    },
    {
     "ename": "KeyboardInterrupt",
     "evalue": "",
     "output_type": "error",
     "traceback": [
      "\u001b[1;31m---------------------------------------------------------------------------\u001b[0m",
      "\u001b[1;31mKeyboardInterrupt\u001b[0m                         Traceback (most recent call last)",
      "\u001b[1;32m~\\AppData\\Local\\Temp/ipykernel_3324/312725148.py\u001b[0m in \u001b[0;36m<module>\u001b[1;34m\u001b[0m\n\u001b[0;32m     13\u001b[0m \u001b[1;33m\u001b[0m\u001b[0m\n\u001b[0;32m     14\u001b[0m \u001b[1;32mfor\u001b[0m \u001b[0mi\u001b[0m \u001b[1;32min\u001b[0m \u001b[0mrange\u001b[0m\u001b[1;33m(\u001b[0m\u001b[1;36m0\u001b[0m\u001b[1;33m,\u001b[0m\u001b[1;36m1000\u001b[0m\u001b[1;33m)\u001b[0m\u001b[1;33m:\u001b[0m\u001b[1;33m\u001b[0m\u001b[1;33m\u001b[0m\u001b[0m\n\u001b[1;32m---> 15\u001b[1;33m        \u001b[0msess\u001b[0m\u001b[1;33m.\u001b[0m\u001b[0mrun\u001b[0m\u001b[1;33m(\u001b[0m\u001b[0mupdate\u001b[0m\u001b[1;33m,\u001b[0m \u001b[0mfeed_dict\u001b[0m \u001b[1;33m=\u001b[0m \u001b[1;33m{\u001b[0m\u001b[0mx\u001b[0m\u001b[1;33m:\u001b[0m\u001b[0mdata_x\u001b[0m\u001b[1;33m,\u001b[0m \u001b[0my\u001b[0m\u001b[1;33m:\u001b[0m\u001b[0mdata_y\u001b[0m\u001b[1;33m}\u001b[0m\u001b[1;33m)\u001b[0m\u001b[1;33m\u001b[0m\u001b[1;33m\u001b[0m\u001b[0m\n\u001b[0m\u001b[0;32m     16\u001b[0m        \u001b[1;32mif\u001b[0m\u001b[1;33m(\u001b[0m\u001b[0mi\u001b[0m\u001b[1;33m%\u001b[0m\u001b[0mshow\u001b[0m\u001b[1;33m==\u001b[0m\u001b[1;36m0\u001b[0m \u001b[1;32mand\u001b[0m \u001b[0mi\u001b[0m\u001b[1;33m>\u001b[0m\u001b[1;36m21\u001b[0m\u001b[1;33m)\u001b[0m\u001b[1;33m:\u001b[0m\u001b[1;33m\u001b[0m\u001b[1;33m\u001b[0m\u001b[0m\n\u001b[0;32m     17\u001b[0m               \u001b[0mtmp\u001b[0m \u001b[1;33m=\u001b[0m \u001b[0msess\u001b[0m\u001b[1;33m.\u001b[0m\u001b[0mrun\u001b[0m\u001b[1;33m(\u001b[0m\u001b[0mloss\u001b[0m\u001b[1;33m,\u001b[0m\u001b[0mfeed_dict\u001b[0m\u001b[1;33m=\u001b[0m\u001b[1;33m{\u001b[0m\u001b[0mx\u001b[0m\u001b[1;33m:\u001b[0m\u001b[0mdata_x\u001b[0m\u001b[1;33m,\u001b[0m\u001b[0my\u001b[0m\u001b[1;33m:\u001b[0m\u001b[0mdata_y\u001b[0m\u001b[1;33m}\u001b[0m\u001b[1;33m)\u001b[0m\u001b[1;33m\u001b[0m\u001b[1;33m\u001b[0m\u001b[0m\n",
      "\u001b[1;32mc:\\Users\\ishay\\Desktop\\Deep_Learning\\venv\\lib\\site-packages\\tensorflow\\python\\client\\session.py\u001b[0m in \u001b[0;36mrun\u001b[1;34m(self, fetches, feed_dict, options, run_metadata)\u001b[0m\n\u001b[0;32m    968\u001b[0m \u001b[1;33m\u001b[0m\u001b[0m\n\u001b[0;32m    969\u001b[0m     \u001b[1;32mtry\u001b[0m\u001b[1;33m:\u001b[0m\u001b[1;33m\u001b[0m\u001b[1;33m\u001b[0m\u001b[0m\n\u001b[1;32m--> 970\u001b[1;33m       result = self._run(None, fetches, feed_dict, options_ptr,\n\u001b[0m\u001b[0;32m    971\u001b[0m                          run_metadata_ptr)\n\u001b[0;32m    972\u001b[0m       \u001b[1;32mif\u001b[0m \u001b[0mrun_metadata\u001b[0m\u001b[1;33m:\u001b[0m\u001b[1;33m\u001b[0m\u001b[1;33m\u001b[0m\u001b[0m\n",
      "\u001b[1;32mc:\\Users\\ishay\\Desktop\\Deep_Learning\\venv\\lib\\site-packages\\tensorflow\\python\\client\\session.py\u001b[0m in \u001b[0;36m_run\u001b[1;34m(self, handle, fetches, feed_dict, options, run_metadata)\u001b[0m\n\u001b[0;32m   1191\u001b[0m     \u001b[1;31m# or if the call is a partial run that specifies feeds.\u001b[0m\u001b[1;33m\u001b[0m\u001b[1;33m\u001b[0m\u001b[1;33m\u001b[0m\u001b[0m\n\u001b[0;32m   1192\u001b[0m     \u001b[1;32mif\u001b[0m \u001b[0mfinal_fetches\u001b[0m \u001b[1;32mor\u001b[0m \u001b[0mfinal_targets\u001b[0m \u001b[1;32mor\u001b[0m \u001b[1;33m(\u001b[0m\u001b[0mhandle\u001b[0m \u001b[1;32mand\u001b[0m \u001b[0mfeed_dict_tensor\u001b[0m\u001b[1;33m)\u001b[0m\u001b[1;33m:\u001b[0m\u001b[1;33m\u001b[0m\u001b[1;33m\u001b[0m\u001b[0m\n\u001b[1;32m-> 1193\u001b[1;33m       results = self._do_run(handle, final_targets, final_fetches,\n\u001b[0m\u001b[0;32m   1194\u001b[0m                              feed_dict_tensor, options, run_metadata)\n\u001b[0;32m   1195\u001b[0m     \u001b[1;32melse\u001b[0m\u001b[1;33m:\u001b[0m\u001b[1;33m\u001b[0m\u001b[1;33m\u001b[0m\u001b[0m\n",
      "\u001b[1;32mc:\\Users\\ishay\\Desktop\\Deep_Learning\\venv\\lib\\site-packages\\tensorflow\\python\\client\\session.py\u001b[0m in \u001b[0;36m_do_run\u001b[1;34m(self, handle, target_list, fetch_list, feed_dict, options, run_metadata)\u001b[0m\n\u001b[0;32m   1371\u001b[0m \u001b[1;33m\u001b[0m\u001b[0m\n\u001b[0;32m   1372\u001b[0m     \u001b[1;32mif\u001b[0m \u001b[0mhandle\u001b[0m \u001b[1;32mis\u001b[0m \u001b[1;32mNone\u001b[0m\u001b[1;33m:\u001b[0m\u001b[1;33m\u001b[0m\u001b[1;33m\u001b[0m\u001b[0m\n\u001b[1;32m-> 1373\u001b[1;33m       return self._do_call(_run_fn, feeds, fetches, targets, options,\n\u001b[0m\u001b[0;32m   1374\u001b[0m                            run_metadata)\n\u001b[0;32m   1375\u001b[0m     \u001b[1;32melse\u001b[0m\u001b[1;33m:\u001b[0m\u001b[1;33m\u001b[0m\u001b[1;33m\u001b[0m\u001b[0m\n",
      "\u001b[1;32mc:\\Users\\ishay\\Desktop\\Deep_Learning\\venv\\lib\\site-packages\\tensorflow\\python\\client\\session.py\u001b[0m in \u001b[0;36m_do_call\u001b[1;34m(self, fn, *args)\u001b[0m\n\u001b[0;32m   1378\u001b[0m   \u001b[1;32mdef\u001b[0m \u001b[0m_do_call\u001b[0m\u001b[1;33m(\u001b[0m\u001b[0mself\u001b[0m\u001b[1;33m,\u001b[0m \u001b[0mfn\u001b[0m\u001b[1;33m,\u001b[0m \u001b[1;33m*\u001b[0m\u001b[0margs\u001b[0m\u001b[1;33m)\u001b[0m\u001b[1;33m:\u001b[0m\u001b[1;33m\u001b[0m\u001b[1;33m\u001b[0m\u001b[0m\n\u001b[0;32m   1379\u001b[0m     \u001b[1;32mtry\u001b[0m\u001b[1;33m:\u001b[0m\u001b[1;33m\u001b[0m\u001b[1;33m\u001b[0m\u001b[0m\n\u001b[1;32m-> 1380\u001b[1;33m       \u001b[1;32mreturn\u001b[0m \u001b[0mfn\u001b[0m\u001b[1;33m(\u001b[0m\u001b[1;33m*\u001b[0m\u001b[0margs\u001b[0m\u001b[1;33m)\u001b[0m\u001b[1;33m\u001b[0m\u001b[1;33m\u001b[0m\u001b[0m\n\u001b[0m\u001b[0;32m   1381\u001b[0m     \u001b[1;32mexcept\u001b[0m \u001b[0merrors\u001b[0m\u001b[1;33m.\u001b[0m\u001b[0mOpError\u001b[0m \u001b[1;32mas\u001b[0m \u001b[0me\u001b[0m\u001b[1;33m:\u001b[0m\u001b[1;33m\u001b[0m\u001b[1;33m\u001b[0m\u001b[0m\n\u001b[0;32m   1382\u001b[0m       \u001b[0mmessage\u001b[0m \u001b[1;33m=\u001b[0m \u001b[0mcompat\u001b[0m\u001b[1;33m.\u001b[0m\u001b[0mas_text\u001b[0m\u001b[1;33m(\u001b[0m\u001b[0me\u001b[0m\u001b[1;33m.\u001b[0m\u001b[0mmessage\u001b[0m\u001b[1;33m)\u001b[0m\u001b[1;33m\u001b[0m\u001b[1;33m\u001b[0m\u001b[0m\n",
      "\u001b[1;32mc:\\Users\\ishay\\Desktop\\Deep_Learning\\venv\\lib\\site-packages\\tensorflow\\python\\client\\session.py\u001b[0m in \u001b[0;36m_run_fn\u001b[1;34m(feed_dict, fetch_list, target_list, options, run_metadata)\u001b[0m\n\u001b[0;32m   1361\u001b[0m       \u001b[1;31m# Ensure any changes to the graph are reflected in the runtime.\u001b[0m\u001b[1;33m\u001b[0m\u001b[1;33m\u001b[0m\u001b[1;33m\u001b[0m\u001b[0m\n\u001b[0;32m   1362\u001b[0m       \u001b[0mself\u001b[0m\u001b[1;33m.\u001b[0m\u001b[0m_extend_graph\u001b[0m\u001b[1;33m(\u001b[0m\u001b[1;33m)\u001b[0m\u001b[1;33m\u001b[0m\u001b[1;33m\u001b[0m\u001b[0m\n\u001b[1;32m-> 1363\u001b[1;33m       return self._call_tf_sessionrun(options, feed_dict, fetch_list,\n\u001b[0m\u001b[0;32m   1364\u001b[0m                                       target_list, run_metadata)\n\u001b[0;32m   1365\u001b[0m \u001b[1;33m\u001b[0m\u001b[0m\n",
      "\u001b[1;32mc:\\Users\\ishay\\Desktop\\Deep_Learning\\venv\\lib\\site-packages\\tensorflow\\python\\client\\session.py\u001b[0m in \u001b[0;36m_call_tf_sessionrun\u001b[1;34m(self, options, feed_dict, fetch_list, target_list, run_metadata)\u001b[0m\n\u001b[0;32m   1454\u001b[0m   def _call_tf_sessionrun(self, options, feed_dict, fetch_list, target_list,\n\u001b[0;32m   1455\u001b[0m                           run_metadata):\n\u001b[1;32m-> 1456\u001b[1;33m     return tf_session.TF_SessionRun_wrapper(self._session, options, feed_dict,\n\u001b[0m\u001b[0;32m   1457\u001b[0m                                             \u001b[0mfetch_list\u001b[0m\u001b[1;33m,\u001b[0m \u001b[0mtarget_list\u001b[0m\u001b[1;33m,\u001b[0m\u001b[1;33m\u001b[0m\u001b[1;33m\u001b[0m\u001b[0m\n\u001b[0;32m   1458\u001b[0m                                             run_metadata)\n",
      "\u001b[1;31mKeyboardInterrupt\u001b[0m: "
     ]
    }
   ],
   "source": [
    "sess = tf.Session()\n",
    "sess.run(tf.global_variables_initializer())\n",
    "\n",
    "show = 10\n",
    "loss_in_time = []\n",
    "w_arr = []\n",
    "w2_arr = []\n",
    "test_over_time = []\n",
    "accuracy_over_time = []\n",
    "\n",
    "correct_prediction = tf.equal(tf.argmax(pred,1), tf.argmax(y,1))\n",
    "accuracy = tf.reduce_mean(tf.cast(correct_prediction, tf.float32))\n",
    "\n",
    "for i in range(0,1000):\n",
    "       sess.run(update, feed_dict = {x:data_x, y:data_y})\n",
    "       if(i%show==0 and i>21):\n",
    "              tmp = sess.run(loss,feed_dict={x:data_x,y:data_y})\n",
    "              loss_in_time.append(tmp)\n",
    "              w_arr.append(sess.run(w1))\n",
    "              w2_arr.append(sess.run(w2))\n",
    "              if(i%(show*1)==0):\n",
    "                     print(f\"i = {i}, loss = {tmp},\")\n",
    "              accuracy_over_time.append(sess.run(accuracy, feed_dict={x:data_t_x,y:data_t_y}))\n",
    "              test_over_time.append(sess.run(loss,feed_dict={x:data_t_x,y:data_t_y}))\n",
    "\n",
    "\n"
   ]
  },
  {
   "cell_type": "code",
   "execution_count": 109,
   "metadata": {},
   "outputs": [
    {
     "data": {
      "image/png": "[encoded data removed]",
      "text/plain": [
       "<Figure size 432x288 with 1 Axes>"
      ]
     },
     "metadata": {
      "needs_background": "light"
     },
     "output_type": "display_data"
    },
    {
     "data": {
      "image/png": "[encoded data removed]",
      "text/plain": [
       "<Figure size 432x288 with 1 Axes>"
      ]
     },
     "metadata": {
      "needs_background": "light"
     },
     "output_type": "display_data"
    },
    {
     "data": {
      "image/png": "[encoded data removed]",
      "text/plain": [
       "<Figure size 432x288 with 1 Axes>"
      ]
     },
     "metadata": {
      "needs_background": "light"
     },
     "output_type": "display_data"
    },
    {
     "data": {
      "image/png": "[encoded data removed]",
      "text/plain": [
       "<Figure size 432x288 with 1 Axes>"
      ]
     },
     "metadata": {
      "needs_background": "light"
     },
     "output_type": "display_data"
    }
   ],
   "source": [
    "d = np.array(np.array(w_arr).transpose()[0]).transpose()\n",
    "plt.plot(d)\n",
    "plt.ylabel('w1 over time')\n",
    "plt.show()\n",
    "\n",
    "d = np.array(np.array(w2_arr).transpose()[0]).transpose()\n",
    "plt.plot(d)\n",
    "plt.ylabel('w2 over time')\n",
    "plt.show()\n",
    "\n",
    "plt.plot(loss_in_time,label =\"loss\")\n",
    "plt.plot(test_over_time , label =\"test\")\n",
    "plt.legend()\n",
    "plt.ylabel('loss over time')\n",
    "plt.show()\n",
    "\n",
    "plt.plot(accuracy_over_time,label =\"accuracy over time\")\n",
    "plt.legend()\n",
    "plt.ylabel('accuracy over time')\n",
    "plt.show()"
   ]
  },
  {
   "cell_type": "code",
   "execution_count": 110,
   "metadata": {},
   "outputs": [
    {
     "name": "stdout",
     "output_type": "stream",
     "text": [
      "pic size: 576x1024 name: data/cat.jpg\n",
      "pic size: 576x1024 name: data/cat.jpg\n",
      "pic size: 576x1024 name: data/cat.jpg\n"
     ]
    }
   ],
   "source": [
    "picR,y_data = load_pic_data([\"data/cat.jpg\"],color=0,jumps=1)\n",
    "picG,y_data = load_pic_data([\"data/cat.jpg\"],color=1,jumps=1)\n",
    "picB,y_data = load_pic_data([\"data/cat.jpg\"],color=2,jumps=1)\n",
    "pR = sess.run(tf.nn.softmax(z2),feed_dict={x:picR})\n",
    "pG = sess.run(tf.nn.softmax(z2),feed_dict={x:picG})\n",
    "pB = sess.run(tf.nn.softmax(z2),feed_dict={x:picB})\n",
    "# print(p)\n",
    "def YtoPic(arr):\n",
    "    picture = []\n",
    "    for line in arr:\n",
    "        max_pos = 0\n",
    "        tmp_max = 0\n",
    "        for i,num in enumerate(line):\n",
    "            if(num>tmp_max):\n",
    "                max_pos = i\n",
    "                tmp_max = num\n",
    "        color_tmp = max_pos # *10\n",
    "        picture.append(color_tmp)\n",
    "    return picture\n",
    "pictureR = YtoPic(pR)\n",
    "pictureG = YtoPic(pG)\n",
    "pictureB = YtoPic(pB)\n",
    "size_x = 576\n",
    "size_y = 1024\n",
    "# data_R = np.reshape(pictureR,(size_x-2,size_y-2))\n",
    "# data_G = np.reshape(pictureG,(size_x-2,size_y-2))\n",
    "# data_B = np.reshape(pictureB,(size_x-2,size_y-2))\n",
    "\n",
    "arr = np.zeros((size_x-2,size_y-2,3))\n",
    "arr[:,:,0] = np.reshape(pictureR,(size_x-2,size_y-2))\n",
    "arr[:,:,1] = np.reshape(pictureG,(size_x-2,size_y-2))\n",
    "arr[:,:,2] = np.reshape(pictureB,(size_x-2,size_y-2))\n",
    "\n",
    "\n",
    "\n",
    "img = Image.fromarray(arr.astype('uint8'),mode=\"RGB\")\n",
    "img.show(title=\"calculated\")\n",
    "\n",
    "# y_data = YtoArr(y_data)\n",
    "# y_data = YtoPic(y_data)\n",
    "# y_data = np.reshape(y_data,(size_x-2,size_y-2))\n",
    "\n",
    "# data_RGB = np.concatenate((y_data,data_R), axis=1)\n",
    "# img = Image.fromarray(data_RGB)\n",
    "# img.show(title=\"calculated\")\n",
    "\n",
    "\n"
   ]
  }
 ],
 "metadata": {
  "interpreter": {
   "hash": "aea76f1be30e5e3b918b1f8b7dd217025488842ffbeb7a324758bac1eab1c225"
  },
  "kernelspec": {
   "display_name": "Python 3.9.8 64-bit",
   "language": "python",
   "name": "python3"
  },
  "language_info": {
   "codemirror_mode": {
    "name": "ipython",
    "version": 3
   },
   "file_extension": ".py",
   "mimetype": "text/x-python",
   "name": "python",
   "nbconvert_exporter": "python",
   "pygments_lexer": "ipython3",
   "version": "3.9.2"
  },
  "orig_nbformat": 4
 },
 "nbformat": 4,
 "nbformat_minor": 2
}
