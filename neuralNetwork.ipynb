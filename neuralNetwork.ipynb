{
 "cells": [
  {
   "cell_type": "markdown",
   "metadata": {},
   "source": [
    "## imports"
   ]
  },
  {
   "cell_type": "code",
   "execution_count": 1,
   "metadata": {},
   "outputs": [
    {
     "name": "stdout",
     "output_type": "stream",
     "text": [
      "WARNING:tensorflow:From c:\\Users\\ישי טרטנר\\Desktop\\Deep_Learning\\venv\\lib\\site-packages\\tensorflow\\python\\compat\\v2_compat.py:111: disable_resource_variables (from tensorflow.python.ops.variable_scope) is deprecated and will be removed in a future version.\n",
      "Instructions for updating:\n",
      "non-resource variables are not supported in the long term\n"
     ]
    }
   ],
   "source": [
    "import tensorflow._api.v2.compat.v1 as tf\n",
    "import numpy as np\n",
    "tf.disable_v2_behavior()\n",
    "from PIL import Image \n",
    "# print('Pillow Version:', PIL.__version__)\n",
    "from numpy import asarray\n",
    "\n",
    "import matplotlib.pyplot as plt"
   ]
  },
  {
   "cell_type": "markdown",
   "metadata": {},
   "source": [
    "## initialization"
   ]
  },
  {
   "cell_type": "code",
   "execution_count": 2,
   "metadata": {},
   "outputs": [],
   "source": [
    "# variables\n",
    "features = 8\n",
    "hidden_layer_nodes = (20)\n",
    "categories = 255\n",
    "x = tf.placeholder(tf.float32, [None, features])\n",
    "\n",
    "w1 = tf.Variable(tf.truncated_normal([features,hidden_layer_nodes], stddev=0.1))\n",
    "b1 = tf.Variable(tf.constant(0.1, shape=[hidden_layer_nodes]))\n",
    "z1 = tf.nn.relu_layer(x,w1,b1) # maybe add?\n",
    "# z1 = tf.nn.relu(tf.matmul(x,w1)+b1)\n",
    "\n",
    "w2 = tf.Variable(tf.truncated_normal([hidden_layer_nodes,categories], stddev=0.1))\n",
    "b2 = tf.Variable(tf.constant(0.1, shape=[categories]))\n",
    "z2 = tf.matmul(z1,w2) + b2\n",
    "\n",
    "y = tf.placeholder(tf.float32, [None, categories])\n",
    "\n",
    "# functions\n",
    "# pred = 1 / (1.0 + tf.exp(-z2))\n",
    "# loss = tf.reduce_mean(-(y * tf.log(pred) + (1 - y) * tf.log( 1 - pred)))\n",
    "\n",
    "# pred = tf.nn.softmax(z2) # softMax function\n",
    "pred = z2\n",
    "# loss = tf.reduce_mean(tf.pow(pred - y, 2) + 0.1*tf.reduce_sum(tf.abs(w2))) #lasso\n",
    "# loss = tf.reduce_mean(-tf.reduce_sum(y * tf.log(pred), reduction_indices=[1]))\n",
    "loss = tf.nn.sigmoid_cross_entropy_with_logits(labels=y,logits=pred)\n",
    "# loss = -tf.reduce_mean(y*tf.log(pred)) # Average cross entropy loss\n",
    "alfa = 0.00001\n",
    "# update = tf.train.GradientDescentOptimizer(alfa).minimize(loss)\n",
    "\n",
    "# cross_entropy = tf.reduce_mean(-tf.reduce_sum(y * tf.log(pred), reduction_indices=[1]))\n",
    "update = tf.train.GradientDescentOptimizer(alfa).minimize(loss)\n",
    "\n"
   ]
  },
  {
   "cell_type": "markdown",
   "metadata": {},
   "source": [
    "## data function\n"
   ]
  },
  {
   "cell_type": "code",
   "execution_count": 3,
   "metadata": {},
   "outputs": [],
   "source": [
    "def YtoArr(y):\n",
    "    arr = []\n",
    "    for i in y:\n",
    "        tmp = []\n",
    "        for j in range(255):# 25\n",
    "            if (int(i) == j) : # i/10\n",
    "                tmp.append(1)\n",
    "            else :\n",
    "                tmp.append(0)\n",
    "        arr.append(tmp)\n",
    "    return np.array(arr)\n",
    "\n",
    "def get_XY_from_image(photo_name:str,color:int,jumps:int=100,show:bool=False):\n",
    "    data = asarray(Image.open(photo_name))\n",
    "    color_arr = data[:,:,color]\n",
    "    image_color_arr = Image.fromarray(color_arr)\n",
    "    if show: image_color_arr.show()\n",
    "    data_x = []\n",
    "    data_y = []\n",
    "    print(f\"pic size: {len(color_arr)}x{len(color_arr[0])} name: {photo_name}\")\n",
    "    for i in range(1,len(color_arr)-1,jumps):\n",
    "        for j in range(1,len(color_arr[0])-1):\n",
    "            temp_y = [color_arr[i][j]]\n",
    "            temp_x = [color_arr[i-1][j-1],color_arr[i-1][j],color_arr[i][j-1],color_arr[i+1][j],color_arr[i][j+1],color_arr[i+1][j+1],color_arr[i-1][j+1],color_arr[i+1][j-1]]\n",
    "            data_y.append(temp_y)\n",
    "            data_x.append(temp_x)\n",
    "    return (data_x,data_y)\n",
    "\n",
    "def load_pic_data(pics_array,color:int,jumps:int=100,show:bool=False):\n",
    "    data_x , data_y = get_XY_from_image(pics_array[0],color,jumps,show)\n",
    "    for i in pics_array[1:]:\n",
    "        data_tmp_x , data_tmp_y = get_XY_from_image(i,color,jumps,show)\n",
    "        data_x = np.append(data_x,data_tmp_x,axis=0)\n",
    "        data_y = np.append(data_y,data_tmp_y,axis=0)\n",
    "    data_x = np.array(data_x)\n",
    "    data_y = np.array(data_y)\n",
    "    return data_x,data_y"
   ]
  },
  {
   "cell_type": "markdown",
   "metadata": {},
   "source": [
    "## data"
   ]
  },
  {
   "cell_type": "code",
   "execution_count": 4,
   "metadata": {},
   "outputs": [
    {
     "name": "stdout",
     "output_type": "stream",
     "text": [
      "pic size: 681x1024 name: data/cat_test.jpg\n",
      "pic size: 480x720 name: data/balloon.jpg\n",
      "pic size: 576x1024 name: data/cat.jpg\n",
      "pic size: 664x1080 name: data/city.jpg\n",
      "pic size: 1282x2278 name: data/city_night.jpg\n",
      "pic size: 539x959 name: data/city_color.jpg\n",
      "pic size: 600x800 name: data/flower.jpg\n",
      "pic size: 588x830 name: data/park.jpg\n"
     ]
    }
   ],
   "source": [
    "data_x , data_y = load_pic_data(\n",
    "    [\"data/cat_test.jpg\", \"data/balloon.jpg\",\"data/cat.jpg\",\"data/city.jpg\",\n",
    "    \"data/city_night.jpg\",\"data/city_color.jpg\",\n",
    "    \"data/flower.jpg\"],\n",
    "    color=0,jumps=100)\n",
    "data_t_x , data_t_y = load_pic_data([\"data/park.jpg\"],color=1,jumps=100)\n",
    "# print(data_t_y)\n",
    "# print(YtoArr(data_t_y))\n",
    "data_y = YtoArr(data_y)\n",
    "data_t_y = YtoArr(data_t_y)\n"
   ]
  },
  {
   "cell_type": "markdown",
   "metadata": {},
   "source": [
    "## sim"
   ]
  },
  {
   "cell_type": "code",
   "execution_count": 5,
   "metadata": {},
   "outputs": [
    {
     "name": "stdout",
     "output_type": "stream",
     "text": [
      "i = 30, loss = [[0.06654423 0.06310263 0.05956775 ... 0.05406804 0.05378145 0.05382439]\n",
      " [0.06654423 0.06310263 0.05956775 ... 0.05406804 0.05378145 0.05382439]\n",
      " [0.06654423 0.06310263 0.05956775 ... 0.05406804 0.05378145 0.05382439]\n",
      " ...\n",
      " [0.06654423 0.06310263 0.05956775 ... 0.05406804 0.05378145 0.05382439]\n",
      " [0.06654423 0.06310263 0.05956775 ... 0.05406804 0.05378145 0.05382439]\n",
      " [0.06654423 0.06310263 0.05956775 ... 0.05406804 0.05378145 0.05382439]],\n",
      "i = 40, loss = [[0.05246798 0.04965599 0.04794884 ... 0.04072345 0.04052725 0.04068616]\n",
      " [0.05246798 0.04965599 0.04794884 ... 0.04072345 0.04052725 0.04068616]\n",
      " [0.05246798 0.04965599 0.04794884 ... 0.04072345 0.04052725 0.04068616]\n",
      " ...\n",
      " [0.05246798 0.04965599 0.04794884 ... 0.04072345 0.04052725 0.04068616]\n",
      " [0.05246798 0.04965599 0.04794884 ... 0.04072345 0.04052725 0.04068616]\n",
      " [0.05246798 0.04965599 0.04794884 ... 0.04072345 0.04052725 0.04068616]],\n",
      "i = 50, loss = [[0.04415019 0.04160549 0.04078539 ... 0.0326703  0.03251811 0.03273085]\n",
      " [0.04415019 0.04160549 0.04078539 ... 0.0326703  0.03251811 0.03273085]\n",
      " [0.04415019 0.04160549 0.04078539 ... 0.0326703  0.03251811 0.03273085]\n",
      " ...\n",
      " [0.04415019 0.04160549 0.04078539 ... 0.0326703  0.03251811 0.03273085]\n",
      " [0.04415019 0.04160549 0.04078539 ... 0.0326703  0.03251811 0.03273085]\n",
      " [0.04415019 0.04160549 0.04078539 ... 0.0326703  0.03251811 0.03273085]],\n",
      "i = 60, loss = [[0.03870528 0.03628306 0.03596308 ... 0.02729672 0.02716517 0.0274078 ]\n",
      " [0.03870528 0.03628306 0.03596308 ... 0.02729672 0.02716517 0.0274078 ]\n",
      " [0.03870528 0.03628306 0.03596308 ... 0.02729672 0.02716517 0.0274078 ]\n",
      " ...\n",
      " [0.03870528 0.03628306 0.03596308 ... 0.02729672 0.02716517 0.0274078 ]\n",
      " [0.03870528 0.03628306 0.03596308 ... 0.02729672 0.02716517 0.0274078 ]\n",
      " [0.03870528 0.03628306 0.03596308 ... 0.02729672 0.02716517 0.0274078 ]],\n",
      "i = 70, loss = [[0.03489334 0.03252507 0.03251734 ... 0.0234594  0.02334099 0.02360316]\n",
      " [0.03489334 0.03252507 0.03251734 ... 0.0234594  0.02334099 0.02360316]\n",
      " [0.03489334 0.03252507 0.03251734 ... 0.0234594  0.02334099 0.02360316]\n",
      " ...\n",
      " [0.03489334 0.03252507 0.03251734 ... 0.0234594  0.02334099 0.02360316]\n",
      " [0.03489334 0.03252507 0.03251734 ... 0.0234594  0.02334099 0.02360316]\n",
      " [0.03489334 0.03252507 0.03251734 ... 0.0234594  0.02334099 0.02360316]],\n",
      "i = 80, loss = [[0.03209695 0.0297461  0.02994851 ... 0.02058372 0.02047429 0.02074875]\n",
      " [0.03209695 0.0297461  0.02994851 ... 0.02058372 0.02047429 0.02074875]\n",
      " [0.03209695 0.0297461  0.02994851 ... 0.02058372 0.02047429 0.02074875]\n",
      " ...\n",
      " [0.03209695 0.0297461  0.02994851 ... 0.02058372 0.02047429 0.02074875]\n",
      " [0.03209695 0.0297461  0.02994851 ... 0.02058372 0.02047429 0.02074875]\n",
      " [0.03209695 0.0297461  0.02994851 ... 0.02058372 0.02047429 0.02074875]],\n",
      "i = 90, loss = [[0.02997352 0.02761856 0.02797182 ... 0.01834995 0.0182464  0.01852962]\n",
      " [0.02997352 0.02761856 0.02797182 ... 0.01834995 0.0182464  0.01852962]\n",
      " [0.02997352 0.02761856 0.02797182 ... 0.01834995 0.0182464  0.01852962]\n",
      " ...\n",
      " [0.02997352 0.02761856 0.02797182 ... 0.01834995 0.0182464  0.01852962]\n",
      " [0.02997352 0.02761856 0.02797182 ... 0.01834995 0.0182464  0.01852962]\n",
      " [0.02997352 0.02761856 0.02797182 ... 0.01834995 0.0182464  0.01852962]],\n"
     ]
    }
   ],
   "source": [
    "sess = tf.Session()\n",
    "sess.run(tf.global_variables_initializer())\n",
    "\n",
    "show = 10\n",
    "loss_in_time = []\n",
    "w_arr = []\n",
    "w2_arr = []\n",
    "test_over_time = []\n",
    "accuracy_over_time = []\n",
    "\n",
    "correct_prediction = tf.equal(tf.argmax(pred,1), tf.argmax(y,1))\n",
    "accuracy = tf.reduce_mean(tf.cast(correct_prediction, tf.float32))\n",
    "\n",
    "for i in range(0,100):\n",
    "       sess.run(update, feed_dict = {x:data_x, y:data_y})\n",
    "       if(i%show==0 and i>21):\n",
    "              tmp = sess.run(loss,feed_dict={x:data_x,y:data_y})\n",
    "              loss_in_time.append(tmp)\n",
    "              w_arr.append(sess.run(w1))\n",
    "              w2_arr.append(sess.run(w2))\n",
    "              if(i%(show*1)==0):\n",
    "                     print(f\"i = {i}, loss = {tmp},\")\n",
    "              accuracy_over_time.append(sess.run(accuracy, feed_dict={x:data_t_x,y:data_t_y}))\n",
    "              test_over_time.append(sess.run(loss,feed_dict={x:data_t_x,y:data_t_y}))\n",
    "\n",
    "\n"
   ]
  },
  {
   "cell_type": "code",
   "execution_count": null,
   "metadata": {},
   "outputs": [
    {
     "data": {
      "image/png": "[encoded data removed]",
      "text/plain": [
       "<Figure size 432x288 with 1 Axes>"
      ]
     },
     "metadata": {
      "needs_background": "light"
     },
     "output_type": "display_data"
    },
    {
     "data": {
      "image/png": "[encoded data removed]",
      "text/plain": [
       "<Figure size 432x288 with 1 Axes>"
      ]
     },
     "metadata": {
      "needs_background": "light"
     },
     "output_type": "display_data"
    },
    {
     "ename": "ValueError",
     "evalue": "x and y can be no greater than 2D, but have shapes (7,) and (7, 64540, 255)",
     "output_type": "error",
     "traceback": [
      "\u001b[1;31m---------------------------------------------------------------------------\u001b[0m",
      "\u001b[1;31mValueError\u001b[0m                                Traceback (most recent call last)",
      "\u001b[1;32mC:\\Users\\5D12~1\\AppData\\Local\\Temp/ipykernel_17820/466621050.py\u001b[0m in \u001b[0;36m<module>\u001b[1;34m\u001b[0m\n\u001b[0;32m      9\u001b[0m \u001b[0mplt\u001b[0m\u001b[1;33m.\u001b[0m\u001b[0mshow\u001b[0m\u001b[1;33m(\u001b[0m\u001b[1;33m)\u001b[0m\u001b[1;33m\u001b[0m\u001b[1;33m\u001b[0m\u001b[0m\n\u001b[0;32m     10\u001b[0m \u001b[1;33m\u001b[0m\u001b[0m\n\u001b[1;32m---> 11\u001b[1;33m \u001b[0mplt\u001b[0m\u001b[1;33m.\u001b[0m\u001b[0mplot\u001b[0m\u001b[1;33m(\u001b[0m\u001b[0mloss_in_time\u001b[0m\u001b[1;33m,\u001b[0m\u001b[0mlabel\u001b[0m \u001b[1;33m=\u001b[0m\u001b[1;34m\"loss\"\u001b[0m\u001b[1;33m)\u001b[0m\u001b[1;33m\u001b[0m\u001b[1;33m\u001b[0m\u001b[0m\n\u001b[0m\u001b[0;32m     12\u001b[0m \u001b[0mplt\u001b[0m\u001b[1;33m.\u001b[0m\u001b[0mplot\u001b[0m\u001b[1;33m(\u001b[0m\u001b[0mtest_over_time\u001b[0m \u001b[1;33m,\u001b[0m \u001b[0mlabel\u001b[0m \u001b[1;33m=\u001b[0m\u001b[1;34m\"test\"\u001b[0m\u001b[1;33m)\u001b[0m\u001b[1;33m\u001b[0m\u001b[1;33m\u001b[0m\u001b[0m\n\u001b[0;32m     13\u001b[0m \u001b[0mplt\u001b[0m\u001b[1;33m.\u001b[0m\u001b[0mlegend\u001b[0m\u001b[1;33m(\u001b[0m\u001b[1;33m)\u001b[0m\u001b[1;33m\u001b[0m\u001b[1;33m\u001b[0m\u001b[0m\n",
      "\u001b[1;32mc:\\Users\\ישי טרטנר\\Desktop\\Deep_Learning\\venv\\lib\\site-packages\\matplotlib\\pyplot.py\u001b[0m in \u001b[0;36mplot\u001b[1;34m(scalex, scaley, data, *args, **kwargs)\u001b[0m\n\u001b[0;32m   2755\u001b[0m \u001b[1;33m@\u001b[0m\u001b[0m_copy_docstring_and_deprecators\u001b[0m\u001b[1;33m(\u001b[0m\u001b[0mAxes\u001b[0m\u001b[1;33m.\u001b[0m\u001b[0mplot\u001b[0m\u001b[1;33m)\u001b[0m\u001b[1;33m\u001b[0m\u001b[1;33m\u001b[0m\u001b[0m\n\u001b[0;32m   2756\u001b[0m \u001b[1;32mdef\u001b[0m \u001b[0mplot\u001b[0m\u001b[1;33m(\u001b[0m\u001b[1;33m*\u001b[0m\u001b[0margs\u001b[0m\u001b[1;33m,\u001b[0m \u001b[0mscalex\u001b[0m\u001b[1;33m=\u001b[0m\u001b[1;32mTrue\u001b[0m\u001b[1;33m,\u001b[0m \u001b[0mscaley\u001b[0m\u001b[1;33m=\u001b[0m\u001b[1;32mTrue\u001b[0m\u001b[1;33m,\u001b[0m \u001b[0mdata\u001b[0m\u001b[1;33m=\u001b[0m\u001b[1;32mNone\u001b[0m\u001b[1;33m,\u001b[0m \u001b[1;33m**\u001b[0m\u001b[0mkwargs\u001b[0m\u001b[1;33m)\u001b[0m\u001b[1;33m:\u001b[0m\u001b[1;33m\u001b[0m\u001b[1;33m\u001b[0m\u001b[0m\n\u001b[1;32m-> 2757\u001b[1;33m     return gca().plot(\n\u001b[0m\u001b[0;32m   2758\u001b[0m         \u001b[1;33m*\u001b[0m\u001b[0margs\u001b[0m\u001b[1;33m,\u001b[0m \u001b[0mscalex\u001b[0m\u001b[1;33m=\u001b[0m\u001b[0mscalex\u001b[0m\u001b[1;33m,\u001b[0m \u001b[0mscaley\u001b[0m\u001b[1;33m=\u001b[0m\u001b[0mscaley\u001b[0m\u001b[1;33m,\u001b[0m\u001b[1;33m\u001b[0m\u001b[1;33m\u001b[0m\u001b[0m\n\u001b[0;32m   2759\u001b[0m         **({\"data\": data} if data is not None else {}), **kwargs)\n",
      "\u001b[1;32mc:\\Users\\ישי טרטנר\\Desktop\\Deep_Learning\\venv\\lib\\site-packages\\matplotlib\\axes\\_axes.py\u001b[0m in \u001b[0;36mplot\u001b[1;34m(self, scalex, scaley, data, *args, **kwargs)\u001b[0m\n\u001b[0;32m   1630\u001b[0m         \"\"\"\n\u001b[0;32m   1631\u001b[0m         \u001b[0mkwargs\u001b[0m \u001b[1;33m=\u001b[0m \u001b[0mcbook\u001b[0m\u001b[1;33m.\u001b[0m\u001b[0mnormalize_kwargs\u001b[0m\u001b[1;33m(\u001b[0m\u001b[0mkwargs\u001b[0m\u001b[1;33m,\u001b[0m \u001b[0mmlines\u001b[0m\u001b[1;33m.\u001b[0m\u001b[0mLine2D\u001b[0m\u001b[1;33m)\u001b[0m\u001b[1;33m\u001b[0m\u001b[1;33m\u001b[0m\u001b[0m\n\u001b[1;32m-> 1632\u001b[1;33m         \u001b[0mlines\u001b[0m \u001b[1;33m=\u001b[0m \u001b[1;33m[\u001b[0m\u001b[1;33m*\u001b[0m\u001b[0mself\u001b[0m\u001b[1;33m.\u001b[0m\u001b[0m_get_lines\u001b[0m\u001b[1;33m(\u001b[0m\u001b[1;33m*\u001b[0m\u001b[0margs\u001b[0m\u001b[1;33m,\u001b[0m \u001b[0mdata\u001b[0m\u001b[1;33m=\u001b[0m\u001b[0mdata\u001b[0m\u001b[1;33m,\u001b[0m \u001b[1;33m**\u001b[0m\u001b[0mkwargs\u001b[0m\u001b[1;33m)\u001b[0m\u001b[1;33m]\u001b[0m\u001b[1;33m\u001b[0m\u001b[1;33m\u001b[0m\u001b[0m\n\u001b[0m\u001b[0;32m   1633\u001b[0m         \u001b[1;32mfor\u001b[0m \u001b[0mline\u001b[0m \u001b[1;32min\u001b[0m \u001b[0mlines\u001b[0m\u001b[1;33m:\u001b[0m\u001b[1;33m\u001b[0m\u001b[1;33m\u001b[0m\u001b[0m\n\u001b[0;32m   1634\u001b[0m             \u001b[0mself\u001b[0m\u001b[1;33m.\u001b[0m\u001b[0madd_line\u001b[0m\u001b[1;33m(\u001b[0m\u001b[0mline\u001b[0m\u001b[1;33m)\u001b[0m\u001b[1;33m\u001b[0m\u001b[1;33m\u001b[0m\u001b[0m\n",
      "\u001b[1;32mc:\\Users\\ישי טרטנר\\Desktop\\Deep_Learning\\venv\\lib\\site-packages\\matplotlib\\axes\\_base.py\u001b[0m in \u001b[0;36m__call__\u001b[1;34m(self, data, *args, **kwargs)\u001b[0m\n\u001b[0;32m    310\u001b[0m                 \u001b[0mthis\u001b[0m \u001b[1;33m+=\u001b[0m \u001b[0margs\u001b[0m\u001b[1;33m[\u001b[0m\u001b[1;36m0\u001b[0m\u001b[1;33m]\u001b[0m\u001b[1;33m,\u001b[0m\u001b[1;33m\u001b[0m\u001b[1;33m\u001b[0m\u001b[0m\n\u001b[0;32m    311\u001b[0m                 \u001b[0margs\u001b[0m \u001b[1;33m=\u001b[0m \u001b[0margs\u001b[0m\u001b[1;33m[\u001b[0m\u001b[1;36m1\u001b[0m\u001b[1;33m:\u001b[0m\u001b[1;33m]\u001b[0m\u001b[1;33m\u001b[0m\u001b[1;33m\u001b[0m\u001b[0m\n\u001b[1;32m--> 312\u001b[1;33m             \u001b[1;32myield\u001b[0m \u001b[1;32mfrom\u001b[0m \u001b[0mself\u001b[0m\u001b[1;33m.\u001b[0m\u001b[0m_plot_args\u001b[0m\u001b[1;33m(\u001b[0m\u001b[0mthis\u001b[0m\u001b[1;33m,\u001b[0m \u001b[0mkwargs\u001b[0m\u001b[1;33m)\u001b[0m\u001b[1;33m\u001b[0m\u001b[1;33m\u001b[0m\u001b[0m\n\u001b[0m\u001b[0;32m    313\u001b[0m \u001b[1;33m\u001b[0m\u001b[0m\n\u001b[0;32m    314\u001b[0m     \u001b[1;32mdef\u001b[0m \u001b[0mget_next_color\u001b[0m\u001b[1;33m(\u001b[0m\u001b[0mself\u001b[0m\u001b[1;33m)\u001b[0m\u001b[1;33m:\u001b[0m\u001b[1;33m\u001b[0m\u001b[1;33m\u001b[0m\u001b[0m\n",
      "\u001b[1;32mc:\\Users\\ישי טרטנר\\Desktop\\Deep_Learning\\venv\\lib\\site-packages\\matplotlib\\axes\\_base.py\u001b[0m in \u001b[0;36m_plot_args\u001b[1;34m(self, tup, kwargs, return_kwargs)\u001b[0m\n\u001b[0;32m    499\u001b[0m                              f\"have shapes {x.shape} and {y.shape}\")\n\u001b[0;32m    500\u001b[0m         \u001b[1;32mif\u001b[0m \u001b[0mx\u001b[0m\u001b[1;33m.\u001b[0m\u001b[0mndim\u001b[0m \u001b[1;33m>\u001b[0m \u001b[1;36m2\u001b[0m \u001b[1;32mor\u001b[0m \u001b[0my\u001b[0m\u001b[1;33m.\u001b[0m\u001b[0mndim\u001b[0m \u001b[1;33m>\u001b[0m \u001b[1;36m2\u001b[0m\u001b[1;33m:\u001b[0m\u001b[1;33m\u001b[0m\u001b[1;33m\u001b[0m\u001b[0m\n\u001b[1;32m--> 501\u001b[1;33m             raise ValueError(f\"x and y can be no greater than 2D, but have \"\n\u001b[0m\u001b[0;32m    502\u001b[0m                              f\"shapes {x.shape} and {y.shape}\")\n\u001b[0;32m    503\u001b[0m         \u001b[1;32mif\u001b[0m \u001b[0mx\u001b[0m\u001b[1;33m.\u001b[0m\u001b[0mndim\u001b[0m \u001b[1;33m==\u001b[0m \u001b[1;36m1\u001b[0m\u001b[1;33m:\u001b[0m\u001b[1;33m\u001b[0m\u001b[1;33m\u001b[0m\u001b[0m\n",
      "\u001b[1;31mValueError\u001b[0m: x and y can be no greater than 2D, but have shapes (7,) and (7, 64540, 255)"
     ]
    },
    {
     "data": {
      "image/png": "[encoded data removed]",
      "text/plain": [
       "<Figure size 432x288 with 1 Axes>"
      ]
     },
     "metadata": {
      "needs_background": "light"
     },
     "output_type": "display_data"
    }
   ],
   "source": [
    "d = np.array(np.array(w_arr).transpose()[0]).transpose()\n",
    "plt.plot(d)\n",
    "plt.ylabel('w1 over time')\n",
    "plt.show()\n",
    "\n",
    "d = np.array(np.array(w2_arr).transpose()[0]).transpose()\n",
    "plt.plot(d)\n",
    "plt.ylabel('w2 over time')\n",
    "plt.show()\n",
    "\n",
    "plt.plot(loss_in_time,label =\"loss\")\n",
    "plt.plot(test_over_time , label =\"test\")\n",
    "plt.legend()\n",
    "plt.ylabel('loss over time')\n",
    "plt.show()\n",
    "\n",
    "plt.plot(accuracy_over_time,label =\"accuracy over time\")\n",
    "plt.legend()\n",
    "plt.ylabel('accuracy over time')\n",
    "plt.show()"
   ]
  },
  {
   "cell_type": "code",
   "execution_count": 6,
   "metadata": {},
   "outputs": [
    {
     "name": "stdout",
     "output_type": "stream",
     "text": [
      "pic size: 576x1024 name: data/cat.jpg\n",
      "pic size: 576x1024 name: data/cat.jpg\n",
      "pic size: 576x1024 name: data/cat.jpg\n"
     ]
    }
   ],
   "source": [
    "picR,y_data = load_pic_data([\"data/cat.jpg\"],color=0,jumps=1)\n",
    "picG,y_data = load_pic_data([\"data/cat.jpg\"],color=1,jumps=1)\n",
    "picB,y_data = load_pic_data([\"data/cat.jpg\"],color=2,jumps=1)\n",
    "pR = sess.run(tf.nn.softmax(z2),feed_dict={x:picR})\n",
    "pG = sess.run(tf.nn.softmax(z2),feed_dict={x:picG})\n",
    "pB = sess.run(tf.nn.softmax(z2),feed_dict={x:picB})\n",
    "# print(p)\n",
    "def YtoPic(arr):\n",
    "    picture = []\n",
    "    for line in arr:\n",
    "        max_pos = 0\n",
    "        tmp_max = 0\n",
    "        for i,num in enumerate(line):\n",
    "            if(num>tmp_max):\n",
    "                max_pos = i\n",
    "                tmp_max = num\n",
    "        color_tmp = max_pos # *10\n",
    "        picture.append(color_tmp)\n",
    "    return picture\n",
    "pictureR = YtoPic(pR)\n",
    "pictureG = YtoPic(pG)\n",
    "pictureB = YtoPic(pB)\n",
    "size_x = 576\n",
    "size_y = 1024\n",
    "# data_R = np.reshape(pictureR,(size_x-2,size_y-2))\n",
    "# data_G = np.reshape(pictureG,(size_x-2,size_y-2))\n",
    "# data_B = np.reshape(pictureB,(size_x-2,size_y-2))\n",
    "\n",
    "arr = np.zeros((size_x-2,size_y-2,3))\n",
    "arr[:,:,0] = np.reshape(pictureR,(size_x-2,size_y-2))\n",
    "arr[:,:,1] = np.reshape(pictureG,(size_x-2,size_y-2))\n",
    "arr[:,:,2] = np.reshape(pictureB,(size_x-2,size_y-2))\n",
    "\n",
    "\n",
    "\n",
    "img = Image.fromarray(arr.astype('uint8'),mode=\"RGB\")\n",
    "img.show(title=\"calculated\")\n",
    "\n",
    "# y_data = YtoArr(y_data)\n",
    "# y_data = YtoPic(y_data)\n",
    "# y_data = np.reshape(y_data,(size_x-2,size_y-2))\n",
    "\n",
    "# data_RGB = np.concatenate((y_data,data_R), axis=1)\n",
    "# img = Image.fromarray(data_RGB)\n",
    "# img.show(title=\"calculated\")\n",
    "\n",
    "\n"
   ]
  }
 ],
 "metadata": {
  "interpreter": {
   "hash": "aea76f1be30e5e3b918b1f8b7dd217025488842ffbeb7a324758bac1eab1c225"
  },
  "kernelspec": {
   "display_name": "Python 3.9.8 64-bit",
   "language": "python",
   "name": "python3"
  },
  "language_info": {
   "codemirror_mode": {
    "name": "ipython",
    "version": 3
   },
   "file_extension": ".py",
   "mimetype": "text/x-python",
   "name": "python",
   "nbconvert_exporter": "python",
   "pygments_lexer": "ipython3",
   "version": "3.9.8"
  },
  "orig_nbformat": 4
 },
 "nbformat": 4,
 "nbformat_minor": 2
}
